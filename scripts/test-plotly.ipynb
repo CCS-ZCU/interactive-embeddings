{
 "cells": [
  {
   "cell_type": "code",
   "id": "initial_id",
   "metadata": {
    "collapsed": true,
    "ExecuteTime": {
     "end_time": "2024-02-09T11:32:44.519988Z",
     "start_time": "2024-02-09T11:32:44.513448Z"
    }
   },
   "source": [
    "import json\n",
    "import pickle\n",
    "import numpy as np\n",
    "import requests"
   ],
   "outputs": [],
   "execution_count": 27
  },
  {
   "metadata": {
    "ExecuteTime": {
     "end_time": "2024-02-09T09:37:25.699253Z",
     "start_time": "2024-02-09T09:37:25.350088Z"
    }
   },
   "cell_type": "code",
   "source": [
    "# Load the dataset of positions of all words in 3D space\n",
    "url = \"https://raw.githubusercontent.com/CCS-ZCU/noscemus_ETF/master/data/coordinates3s_dict.pkl\"\n",
    "resp = requests.get(url)\n",
    "coordinates3s_dict = pickle.loads(resp.content)"
   ],
   "id": "6f8a499f08600",
   "outputs": [],
   "execution_count": 21
  },
  {
   "metadata": {
    "ExecuteTime": {
     "end_time": "2024-02-09T09:37:26.361534Z",
     "start_time": "2024-02-09T09:37:26.356872Z"
    }
   },
   "cell_type": "code",
   "source": [
    "# The dataset has form of a dictionary, each key correspond to one of our six subcoropra:\n",
    "coordinates3s_dict.keys()"
   ],
   "id": "31501d5f02cc7d2f",
   "outputs": [
    {
     "data": {
      "text/plain": [
       "dict_keys(['lasla', 'operamaiora', '1501-1550', '1551-1600', '1601-1650', '1651-1700'])"
      ]
     },
     "execution_count": 22,
     "metadata": {},
     "output_type": "execute_result"
    }
   ],
   "execution_count": 22
  },
  {
   "metadata": {},
   "cell_type": "markdown",
   "source": [
    "Values of each item correspond to word positions in 3D space. Thus each item consists of:\n",
    "* `xs` - np.array of all x coordinates\n",
    "* `ys` - np.array of all y coordinates\n",
    "* `zs` - np.array of all z coordinates\n",
    "* `words` - np.array of all words in the vocabulary\n",
    "Thus, to extract positions of all word vectors in the 1651-1700 subcorpus, you have to run:"
   ],
   "id": "157de8553f5fe311"
  },
  {
   "metadata": {
    "ExecuteTime": {
     "end_time": "2024-02-09T09:37:29.285680Z",
     "start_time": "2024-02-09T09:37:29.283423Z"
    }
   },
   "cell_type": "code",
   "source": [
    "subcorpus = \"1651-1700\"\n",
    "xs, ys, zs, words = coordinates3s_dict[subcorpus]"
   ],
   "id": "3548a0f5f95f7d14",
   "outputs": [],
   "execution_count": 23
  },
  {
   "metadata": {},
   "cell_type": "markdown",
   "source": "For instance, of we want to get x,y,z coordinates of a _target_ word, we have to find its position in the `words` nd.array and subsequently use this position to index from `xs`, `ys`, `zs`.",
   "id": "aa2f396be26eaa5"
  },
  {
   "metadata": {
    "ExecuteTime": {
     "end_time": "2024-02-09T09:37:36.778047Z",
     "start_time": "2024-02-09T09:37:36.774619Z"
    }
   },
   "cell_type": "code",
   "source": [
    "target = \"scientia\"\n",
    "i = np.where(words == target) # find the positional index\n",
    "x, y, z = xs[i], ys[i], zs[i] # apply the positional index to navigate through xs and ys\n",
    "print(x, y, z)"
   ],
   "id": "6bf4cf428e1da3a6",
   "outputs": [
    {
     "name": "stdout",
     "output_type": "stream",
     "text": [
      "[0.33957076] [0.27663973] [0.5570164]\n"
     ]
    }
   ],
   "execution_count": 25
  },
  {
   "metadata": {},
   "cell_type": "markdown",
   "source": "We can use something similar to get positions of multiple words at once:",
   "id": "3755dd43b6e3bdfd"
  },
  {
   "metadata": {
    "ExecuteTime": {
     "end_time": "2024-02-09T09:38:04.988570Z",
     "start_time": "2024-02-09T09:38:04.983034Z"
    }
   },
   "cell_type": "code",
   "source": [
    "wordlist = [\"scientia\", \"sapientia\", \"cognitio\", \"disciplina\"]\n",
    "idx = [word[0] for word in enumerate(words) if word[1] in wordlist] # find the positional indeces\n",
    "wordlist_xs, wordlist_ys, wordlist_zs = xs[idx], ys[idx], zs[idx] # extract xs and ys for words in the wordlist based on their positional indeces\n",
    "print(wordlist_xs, wordlist_ys, wordlist_zs)"
   ],
   "id": "894ee5bcd2e8298",
   "outputs": [
    {
     "name": "stdout",
     "output_type": "stream",
     "text": [
      "[0.33957076 0.48258787 0.3337054  0.35430148] [0.27663973 0.52705663 0.2713426  0.2833426 ] [0.5570164  0.7940444  0.5414133  0.57174116]\n"
     ]
    }
   ],
   "execution_count": 26
  },
  {
   "metadata": {},
   "cell_type": "markdown",
   "source": "I think that the data in this shape (wordlist_xs, wordlist_ys, wordlist_zs, wordlist) can be plotted with `plotly` 3D scatter in a very straightforward way.",
   "id": "c7c3c38358b6df21"
  },
  {
   "metadata": {
    "ExecuteTime": {
     "end_time": "2024-02-09T11:34:22.903471Z",
     "start_time": "2024-02-09T11:34:22.584554Z"
    }
   },
   "cell_type": "code",
   "source": [
    "wordlist_file_url = \"https://raw.githubusercontent.com/CCS-ZCU/noscemus_ETF/master/data/wordlist.json\"\n",
    "response = requests.get(wordlist_file_url)\n",
    "wordlist = requests.get(wordlist_file_url).json()"
   ],
   "id": "8bdf0f23320a54a4",
   "outputs": [],
   "execution_count": 28
  },
  {
   "metadata": {
    "ExecuteTime": {
     "end_time": "2024-02-09T11:34:41.384060Z",
     "start_time": "2024-02-09T11:34:41.379856Z"
    }
   },
   "cell_type": "code",
   "source": [
    "# let's take a look at the first 10 words\n",
    "wordlist[:10]"
   ],
   "id": "9bbda30eb39cc4bd",
   "outputs": [
    {
     "data": {
      "text/plain": [
       "['cognitio',\n",
       " 'disciplina',\n",
       " 'notitia',\n",
       " 'philosophia',\n",
       " 'ars',\n",
       " 'doctrina',\n",
       " 'geometria',\n",
       " 'mathematicus',\n",
       " 'peritia',\n",
       " 'studiosus']"
      ]
     },
     "execution_count": 29,
     "metadata": {},
     "output_type": "execute_result"
    }
   ],
   "execution_count": 29
  },
  {
   "metadata": {},
   "cell_type": "markdown",
   "source": [
    "Now we can obtain their coordinates the same way as above.\n",
    "Once again, let start by choosing the positional data for the subcorpus we are interested in.\n",
    "\n"
   ],
   "id": "3fad13fa6263b74e"
  },
  {
   "metadata": {
    "ExecuteTime": {
     "end_time": "2024-02-09T11:35:41.967859Z",
     "start_time": "2024-02-09T11:35:41.966261Z"
    }
   },
   "cell_type": "code",
   "source": [
    "# now we can obtain their coordinates the same way as above:\n",
    "\n",
    "\n",
    "idx = [word[0] for word in enumerate(words) if word[1] in wordlist] # find the positional indeces\n",
    "wordlist_xs, wordlist_ys, wordlist_zs = xs[idx], ys[idx], zs[idx]"
   ],
   "id": "1fe8fa11af86833b",
   "outputs": [],
   "execution_count": 30
  },
  {
   "metadata": {},
   "cell_type": "code",
   "outputs": [],
   "execution_count": null,
   "source": [
    "# TO-DO: \n",
    "# (1) install and load plotly (maybe plotly express will be sufficient)\n",
    "# (2) test plotting of the positional data above as a 3D scatter plot (do not hesitate to pass all this steps to ChatGPT)\n",
    "# (3) play out with configuration of the hover\n",
    "# (4) playout with axis limits, colors, fontsizes etc.\n",
    "# (5) develop a versatile function ```plot_wordlist(wordlist, [additional parameters])```"
   ],
   "id": "c9d5cae49868615e"
  },
  {
   "metadata": {},
   "cell_type": "code",
   "outputs": [],
   "execution_count": null,
   "source": "",
   "id": "88ca5dfc323f952a"
  }
 ],
 "metadata": {
  "kernelspec": {
   "display_name": "Python 3",
   "language": "python",
   "name": "python3"
  },
  "language_info": {
   "codemirror_mode": {
    "name": "ipython",
    "version": 2
   },
   "file_extension": ".py",
   "mimetype": "text/x-python",
   "name": "python",
   "nbconvert_exporter": "python",
   "pygments_lexer": "ipython2",
   "version": "2.7.6"
  }
 },
 "nbformat": 4,
 "nbformat_minor": 5
}
