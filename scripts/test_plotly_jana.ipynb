{
  "cells": [
    {
      "cell_type": "code",
      "execution_count": 2,
      "id": "initial_id",
      "metadata": {
        "ExecuteTime": {
          "end_time": "2024-02-09T11:32:44.519988Z",
          "start_time": "2024-02-09T11:32:44.513448Z"
        },
        "collapsed": true,
        "id": "initial_id"
      },
      "outputs": [],
      "source": [
        "import json\n",
        "import pickle\n",
        "import numpy as np\n",
        "import requests\n",
        "import plotly\n",
        "import plotly.express as px\n",
        "import pandas as pd\n",
        "import matplotlib"
      ]
    },
    {
      "cell_type": "code",
      "execution_count": 3,
      "id": "6f8a499f08600",
      "metadata": {
        "ExecuteTime": {
          "end_time": "2024-02-09T09:37:25.699253Z",
          "start_time": "2024-02-09T09:37:25.350088Z"
        },
        "id": "6f8a499f08600"
      },
      "outputs": [],
      "source": [
        "# Load the dataset of positions of all words in 3D space\n",
        "url = \"https://raw.githubusercontent.com/CCS-ZCU/noscemus_ETF/master/data/coordinates3s_dict.pkl\"\n",
        "resp = requests.get(url)\n",
        "coordinates3s_dict = pickle.loads(resp.content)"
      ]
    },
    {
      "cell_type": "code",
      "execution_count": 4,
      "id": "o2Q-BNiBTg9V",
      "metadata": {
        "id": "o2Q-BNiBTg9V"
      },
      "outputs": [],
      "source": [
        "filtered_vocab_df = pd.read_json(\"https://raw.githubusercontent.com/CCS-ZCU/noscemus_ETF/master/data/filtered_vocab_df.json\")\n",
        "filtered_vocab_df.set_index(\"word\", inplace=True)\n",
        "#word_dict = filtered_vocab_df.apply(lambda row: \"wordcount: \" + str(row[\"subcorpus\"]) + \", translation: \" + row[\"transl\"], axis=1).to_dict()"
      ]
    },
    {
      "cell_type": "code",
      "execution_count": 5,
      "id": "hJnvHiRknGzW",
      "metadata": {
        "colab": {
          "base_uri": "https://localhost:8080/",
          "height": 238
        },
        "id": "hJnvHiRknGzW",
        "outputId": "a428f94c-7bff-404b-af16-f6f048ce7af2"
      },
      "outputs": [
        {
          "data": {
            "text/html": [
              "<div>\n",
              "<style scoped>\n",
              "    .dataframe tbody tr th:only-of-type {\n",
              "        vertical-align: middle;\n",
              "    }\n",
              "\n",
              "    .dataframe tbody tr th {\n",
              "        vertical-align: top;\n",
              "    }\n",
              "\n",
              "    .dataframe thead th {\n",
              "        text-align: right;\n",
              "    }\n",
              "</style>\n",
              "<table border=\"1\" class=\"dataframe\">\n",
              "  <thead>\n",
              "    <tr style=\"text-align: right;\">\n",
              "      <th></th>\n",
              "      <th>1501-1550</th>\n",
              "      <th>1551-1600</th>\n",
              "      <th>1601-1650</th>\n",
              "      <th>1651-1700</th>\n",
              "      <th>mean</th>\n",
              "      <th>in_lila_embeddings</th>\n",
              "      <th>in_lasla</th>\n",
              "      <th>in_operamaiora</th>\n",
              "      <th>transl</th>\n",
              "    </tr>\n",
              "    <tr>\n",
              "      <th>word</th>\n",
              "      <th></th>\n",
              "      <th></th>\n",
              "      <th></th>\n",
              "      <th></th>\n",
              "      <th></th>\n",
              "      <th></th>\n",
              "      <th></th>\n",
              "      <th></th>\n",
              "      <th></th>\n",
              "    </tr>\n",
              "  </thead>\n",
              "  <tbody>\n",
              "    <tr>\n",
              "      <th>dico</th>\n",
              "      <td>42831</td>\n",
              "      <td>120825</td>\n",
              "      <td>41832</td>\n",
              "      <td>72221</td>\n",
              "      <td>69427.25</td>\n",
              "      <td>True</td>\n",
              "      <td>True</td>\n",
              "      <td>True</td>\n",
              "      <td>say, call, tell</td>\n",
              "    </tr>\n",
              "    <tr>\n",
              "      <th>omnis</th>\n",
              "      <td>33152</td>\n",
              "      <td>108530</td>\n",
              "      <td>46009</td>\n",
              "      <td>66387</td>\n",
              "      <td>63519.50</td>\n",
              "      <td>True</td>\n",
              "      <td>True</td>\n",
              "      <td>True</td>\n",
              "      <td></td>\n",
              "    </tr>\n",
              "    <tr>\n",
              "      <th>facio</th>\n",
              "      <td>33323</td>\n",
              "      <td>109486</td>\n",
              "      <td>40134</td>\n",
              "      <td>53953</td>\n",
              "      <td>59224.00</td>\n",
              "      <td>True</td>\n",
              "      <td>True</td>\n",
              "      <td>True</td>\n",
              "      <td>do, make, handle</td>\n",
              "    </tr>\n",
              "    <tr>\n",
              "      <th>pars</th>\n",
              "      <td>32591</td>\n",
              "      <td>90667</td>\n",
              "      <td>43593</td>\n",
              "      <td>51249</td>\n",
              "      <td>54525.00</td>\n",
              "      <td>True</td>\n",
              "      <td>True</td>\n",
              "      <td>True</td>\n",
              "      <td>part</td>\n",
              "    </tr>\n",
              "    <tr>\n",
              "      <th>habeo</th>\n",
              "      <td>30884</td>\n",
              "      <td>87225</td>\n",
              "      <td>38386</td>\n",
              "      <td>57791</td>\n",
              "      <td>53571.50</td>\n",
              "      <td>True</td>\n",
              "      <td>True</td>\n",
              "      <td>True</td>\n",
              "      <td>have, hold, possess, consider, think</td>\n",
              "    </tr>\n",
              "  </tbody>\n",
              "</table>\n",
              "</div>"
            ],
            "text/plain": [
              "       1501-1550  1551-1600  1601-1650  1651-1700      mean  \\\n",
              "word                                                          \n",
              "dico       42831     120825      41832      72221  69427.25   \n",
              "omnis      33152     108530      46009      66387  63519.50   \n",
              "facio      33323     109486      40134      53953  59224.00   \n",
              "pars       32591      90667      43593      51249  54525.00   \n",
              "habeo      30884      87225      38386      57791  53571.50   \n",
              "\n",
              "       in_lila_embeddings  in_lasla  in_operamaiora  \\\n",
              "word                                                  \n",
              "dico                 True      True            True   \n",
              "omnis                True      True            True   \n",
              "facio                True      True            True   \n",
              "pars                 True      True            True   \n",
              "habeo                True      True            True   \n",
              "\n",
              "                                     transl  \n",
              "word                                         \n",
              "dico                        say, call, tell  \n",
              "omnis                                        \n",
              "facio                      do, make, handle  \n",
              "pars                                   part  \n",
              "habeo  have, hold, possess, consider, think  "
            ]
          },
          "execution_count": 5,
          "metadata": {},
          "output_type": "execute_result"
        }
      ],
      "source": [
        "filtered_vocab_df.head(5)"
      ]
    },
    {
      "cell_type": "markdown",
      "id": "q_soYhOAnU66",
      "metadata": {
        "id": "q_soYhOAnU66"
      },
      "source": []
    },
    {
      "cell_type": "code",
      "execution_count": 6,
      "id": "31501d5f02cc7d2f",
      "metadata": {
        "ExecuteTime": {
          "end_time": "2024-02-09T09:37:26.361534Z",
          "start_time": "2024-02-09T09:37:26.356872Z"
        },
        "colab": {
          "base_uri": "https://localhost:8080/"
        },
        "id": "31501d5f02cc7d2f",
        "outputId": "c5732f75-d424-4e8b-a722-f22a25cf9721"
      },
      "outputs": [
        {
          "data": {
            "text/plain": [
              "dict_keys(['lasla', 'operamaiora', '1501-1550', '1551-1600', '1601-1650', '1651-1700'])"
            ]
          },
          "execution_count": 6,
          "metadata": {},
          "output_type": "execute_result"
        }
      ],
      "source": [
        "# The dataset has form of a dictionary, each key correspond to one of our six subcoropra:\n",
        "coordinates3s_dict.keys()"
      ]
    },
    {
      "cell_type": "markdown",
      "id": "157de8553f5fe311",
      "metadata": {
        "id": "157de8553f5fe311"
      },
      "source": [
        "Values of each item correspond to word positions in 3D space. Thus each item consists of:\n",
        "* `xs` - np.array of all x coordinates\n",
        "* `ys` - np.array of all y coordinates\n",
        "* `zs` - np.array of all z coordinates\n",
        "* `words` - np.array of all words in the vocabulary\n",
        "Thus, to extract positions of all word vectors in the 1651-1700 subcorpus, you have to run:"
      ]
    },
    {
      "cell_type": "code",
      "execution_count": 7,
      "id": "3548a0f5f95f7d14",
      "metadata": {
        "ExecuteTime": {
          "end_time": "2024-02-09T09:37:29.285680Z",
          "start_time": "2024-02-09T09:37:29.283423Z"
        },
        "id": "3548a0f5f95f7d14"
      },
      "outputs": [],
      "source": [
        "subcorpus = \"1651-1700\"\n",
        "xs, ys, zs, words = coordinates3s_dict[subcorpus]\n",
        "word_dict = filtered_vocab_df.apply(lambda row: \"wordcount: \" + str(row[subcorpus]) + \", translation: \" + row[\"transl\"], axis=1).to_dict()"
      ]
    },
    {
      "cell_type": "markdown",
      "id": "aa2f396be26eaa5",
      "metadata": {
        "id": "aa2f396be26eaa5"
      },
      "source": [
        "For instance, of we want to get x,y,z coordinates of a _target_ word, we have to find its position in the `words` nd.array and subsequently use this position to index from `xs`, `ys`, `zs`."
      ]
    },
    {
      "cell_type": "code",
      "execution_count": 8,
      "id": "6bf4cf428e1da3a6",
      "metadata": {
        "ExecuteTime": {
          "end_time": "2024-02-09T09:37:36.778047Z",
          "start_time": "2024-02-09T09:37:36.774619Z"
        },
        "colab": {
          "base_uri": "https://localhost:8080/"
        },
        "id": "6bf4cf428e1da3a6",
        "outputId": "653070d0-946c-4de2-fb83-98112e20d1ba"
      },
      "outputs": [
        {
          "name": "stdout",
          "output_type": "stream",
          "text": [
            "[0.33957076] [0.27663973] [0.5570164]\n"
          ]
        }
      ],
      "source": [
        "target = \"scientia\"\n",
        "i = np.where(words == target) # find the positional index\n",
        "x, y, z = xs[i], ys[i], zs[i] # apply the positional index to navigate through xs and ys\n",
        "print(x, y, z)"
      ]
    },
    {
      "cell_type": "markdown",
      "id": "3755dd43b6e3bdfd",
      "metadata": {
        "id": "3755dd43b6e3bdfd"
      },
      "source": [
        "We can use something similar to get positions of multiple words at once:"
      ]
    },
    {
      "cell_type": "code",
      "execution_count": 9,
      "id": "894ee5bcd2e8298",
      "metadata": {
        "ExecuteTime": {
          "end_time": "2024-02-09T09:38:04.988570Z",
          "start_time": "2024-02-09T09:38:04.983034Z"
        },
        "colab": {
          "base_uri": "https://localhost:8080/"
        },
        "id": "894ee5bcd2e8298",
        "outputId": "5f9d35c2-eea5-44e0-aa05-7f212e347c96"
      },
      "outputs": [
        {
          "name": "stdout",
          "output_type": "stream",
          "text": [
            "[0.33957076 0.48258787 0.3337054  0.35430148] [0.27663973 0.52705663 0.2713426  0.2833426 ] [0.5570164  0.7940444  0.5414133  0.57174116]\n"
          ]
        }
      ],
      "source": [
        "wordlist = [\"scientia\", \"sapientia\", \"cognitio\", \"disciplina\"]\n",
        "idx = [word[0] for word in enumerate(words) if word[1] in wordlist] # find the positional indeces\n",
        "wordlist_xs, wordlist_ys, wordlist_zs = xs[idx], ys[idx], zs[idx] # extract xs and ys for words in the wordlist based on their positional indeces\n",
        "print(wordlist_xs, wordlist_ys, wordlist_zs)"
      ]
    },
    {
      "cell_type": "code",
      "execution_count": 10,
      "id": "7USOOKJdNfWa",
      "metadata": {
        "id": "7USOOKJdNfWa"
      },
      "outputs": [],
      "source": [
        "fig = px.scatter_3d(x=wordlist_xs, y=wordlist_ys, z=wordlist_zs, text=wordlist)"
      ]
    },
    {
      "cell_type": "code",
      "execution_count": 11,
      "id": "YRbArBnSNoCa",
      "metadata": {
        "colab": {
          "base_uri": "https://localhost:8080/",
          "height": 542
        },
        "id": "YRbArBnSNoCa",
        "outputId": "70410f9e-ce5a-4787-eeab-a956d3a3c0ec"
      },
      "outputs": [
        {
          "data": {
            "application/vnd.plotly.v1+json": {
              "config": {
                "plotlyServerURL": "https://plot.ly"
              },
              "data": [
                {
                  "hovertemplate": "x=%{x}<br>y=%{y}<br>z=%{z}<br>text=%{text}<extra></extra>",
                  "legendgroup": "",
                  "marker": {
                    "color": "#636efa",
                    "symbol": "circle"
                  },
                  "mode": "markers+text",
                  "name": "",
                  "scene": "scene",
                  "showlegend": false,
                  "text": [
                    "scientia",
                    "sapientia",
                    "cognitio",
                    "disciplina"
                  ],
                  "type": "scatter3d",
                  "x": [
                    0.3395707607269287,
                    0.48258787393569946,
                    0.3337053954601288,
                    0.35430148243904114
                  ],
                  "y": [
                    0.2766397297382355,
                    0.5270566344261169,
                    0.27134260535240173,
                    0.2833425998687744
                  ],
                  "z": [
                    0.5570163726806641,
                    0.7940443754196167,
                    0.5414133071899414,
                    0.5717411637306213
                  ]
                }
              ],
              "layout": {
                "legend": {
                  "tracegroupgap": 0
                },
                "margin": {
                  "t": 60
                },
                "scene": {
                  "domain": {
                    "x": [
                      0,
                      1
                    ],
                    "y": [
                      0,
                      1
                    ]
                  },
                  "xaxis": {
                    "title": {
                      "text": "X Axis"
                    }
                  },
                  "yaxis": {
                    "title": {
                      "text": "Y Axis"
                    }
                  },
                  "zaxis": {
                    "title": {
                      "text": "Z Axis"
                    }
                  }
                },
                "template": {
                  "data": {
                    "bar": [
                      {
                        "error_x": {
                          "color": "#2a3f5f"
                        },
                        "error_y": {
                          "color": "#2a3f5f"
                        },
                        "marker": {
                          "line": {
                            "color": "#E5ECF6",
                            "width": 0.5
                          },
                          "pattern": {
                            "fillmode": "overlay",
                            "size": 10,
                            "solidity": 0.2
                          }
                        },
                        "type": "bar"
                      }
                    ],
                    "barpolar": [
                      {
                        "marker": {
                          "line": {
                            "color": "#E5ECF6",
                            "width": 0.5
                          },
                          "pattern": {
                            "fillmode": "overlay",
                            "size": 10,
                            "solidity": 0.2
                          }
                        },
                        "type": "barpolar"
                      }
                    ],
                    "carpet": [
                      {
                        "aaxis": {
                          "endlinecolor": "#2a3f5f",
                          "gridcolor": "white",
                          "linecolor": "white",
                          "minorgridcolor": "white",
                          "startlinecolor": "#2a3f5f"
                        },
                        "baxis": {
                          "endlinecolor": "#2a3f5f",
                          "gridcolor": "white",
                          "linecolor": "white",
                          "minorgridcolor": "white",
                          "startlinecolor": "#2a3f5f"
                        },
                        "type": "carpet"
                      }
                    ],
                    "choropleth": [
                      {
                        "colorbar": {
                          "outlinewidth": 0,
                          "ticks": ""
                        },
                        "type": "choropleth"
                      }
                    ],
                    "contour": [
                      {
                        "colorbar": {
                          "outlinewidth": 0,
                          "ticks": ""
                        },
                        "colorscale": [
                          [
                            0,
                            "#0d0887"
                          ],
                          [
                            0.1111111111111111,
                            "#46039f"
                          ],
                          [
                            0.2222222222222222,
                            "#7201a8"
                          ],
                          [
                            0.3333333333333333,
                            "#9c179e"
                          ],
                          [
                            0.4444444444444444,
                            "#bd3786"
                          ],
                          [
                            0.5555555555555556,
                            "#d8576b"
                          ],
                          [
                            0.6666666666666666,
                            "#ed7953"
                          ],
                          [
                            0.7777777777777778,
                            "#fb9f3a"
                          ],
                          [
                            0.8888888888888888,
                            "#fdca26"
                          ],
                          [
                            1,
                            "#f0f921"
                          ]
                        ],
                        "type": "contour"
                      }
                    ],
                    "contourcarpet": [
                      {
                        "colorbar": {
                          "outlinewidth": 0,
                          "ticks": ""
                        },
                        "type": "contourcarpet"
                      }
                    ],
                    "heatmap": [
                      {
                        "colorbar": {
                          "outlinewidth": 0,
                          "ticks": ""
                        },
                        "colorscale": [
                          [
                            0,
                            "#0d0887"
                          ],
                          [
                            0.1111111111111111,
                            "#46039f"
                          ],
                          [
                            0.2222222222222222,
                            "#7201a8"
                          ],
                          [
                            0.3333333333333333,
                            "#9c179e"
                          ],
                          [
                            0.4444444444444444,
                            "#bd3786"
                          ],
                          [
                            0.5555555555555556,
                            "#d8576b"
                          ],
                          [
                            0.6666666666666666,
                            "#ed7953"
                          ],
                          [
                            0.7777777777777778,
                            "#fb9f3a"
                          ],
                          [
                            0.8888888888888888,
                            "#fdca26"
                          ],
                          [
                            1,
                            "#f0f921"
                          ]
                        ],
                        "type": "heatmap"
                      }
                    ],
                    "heatmapgl": [
                      {
                        "colorbar": {
                          "outlinewidth": 0,
                          "ticks": ""
                        },
                        "colorscale": [
                          [
                            0,
                            "#0d0887"
                          ],
                          [
                            0.1111111111111111,
                            "#46039f"
                          ],
                          [
                            0.2222222222222222,
                            "#7201a8"
                          ],
                          [
                            0.3333333333333333,
                            "#9c179e"
                          ],
                          [
                            0.4444444444444444,
                            "#bd3786"
                          ],
                          [
                            0.5555555555555556,
                            "#d8576b"
                          ],
                          [
                            0.6666666666666666,
                            "#ed7953"
                          ],
                          [
                            0.7777777777777778,
                            "#fb9f3a"
                          ],
                          [
                            0.8888888888888888,
                            "#fdca26"
                          ],
                          [
                            1,
                            "#f0f921"
                          ]
                        ],
                        "type": "heatmapgl"
                      }
                    ],
                    "histogram": [
                      {
                        "marker": {
                          "pattern": {
                            "fillmode": "overlay",
                            "size": 10,
                            "solidity": 0.2
                          }
                        },
                        "type": "histogram"
                      }
                    ],
                    "histogram2d": [
                      {
                        "colorbar": {
                          "outlinewidth": 0,
                          "ticks": ""
                        },
                        "colorscale": [
                          [
                            0,
                            "#0d0887"
                          ],
                          [
                            0.1111111111111111,
                            "#46039f"
                          ],
                          [
                            0.2222222222222222,
                            "#7201a8"
                          ],
                          [
                            0.3333333333333333,
                            "#9c179e"
                          ],
                          [
                            0.4444444444444444,
                            "#bd3786"
                          ],
                          [
                            0.5555555555555556,
                            "#d8576b"
                          ],
                          [
                            0.6666666666666666,
                            "#ed7953"
                          ],
                          [
                            0.7777777777777778,
                            "#fb9f3a"
                          ],
                          [
                            0.8888888888888888,
                            "#fdca26"
                          ],
                          [
                            1,
                            "#f0f921"
                          ]
                        ],
                        "type": "histogram2d"
                      }
                    ],
                    "histogram2dcontour": [
                      {
                        "colorbar": {
                          "outlinewidth": 0,
                          "ticks": ""
                        },
                        "colorscale": [
                          [
                            0,
                            "#0d0887"
                          ],
                          [
                            0.1111111111111111,
                            "#46039f"
                          ],
                          [
                            0.2222222222222222,
                            "#7201a8"
                          ],
                          [
                            0.3333333333333333,
                            "#9c179e"
                          ],
                          [
                            0.4444444444444444,
                            "#bd3786"
                          ],
                          [
                            0.5555555555555556,
                            "#d8576b"
                          ],
                          [
                            0.6666666666666666,
                            "#ed7953"
                          ],
                          [
                            0.7777777777777778,
                            "#fb9f3a"
                          ],
                          [
                            0.8888888888888888,
                            "#fdca26"
                          ],
                          [
                            1,
                            "#f0f921"
                          ]
                        ],
                        "type": "histogram2dcontour"
                      }
                    ],
                    "mesh3d": [
                      {
                        "colorbar": {
                          "outlinewidth": 0,
                          "ticks": ""
                        },
                        "type": "mesh3d"
                      }
                    ],
                    "parcoords": [
                      {
                        "line": {
                          "colorbar": {
                            "outlinewidth": 0,
                            "ticks": ""
                          }
                        },
                        "type": "parcoords"
                      }
                    ],
                    "pie": [
                      {
                        "automargin": true,
                        "type": "pie"
                      }
                    ],
                    "scatter": [
                      {
                        "fillpattern": {
                          "fillmode": "overlay",
                          "size": 10,
                          "solidity": 0.2
                        },
                        "type": "scatter"
                      }
                    ],
                    "scatter3d": [
                      {
                        "line": {
                          "colorbar": {
                            "outlinewidth": 0,
                            "ticks": ""
                          }
                        },
                        "marker": {
                          "colorbar": {
                            "outlinewidth": 0,
                            "ticks": ""
                          }
                        },
                        "type": "scatter3d"
                      }
                    ],
                    "scattercarpet": [
                      {
                        "marker": {
                          "colorbar": {
                            "outlinewidth": 0,
                            "ticks": ""
                          }
                        },
                        "type": "scattercarpet"
                      }
                    ],
                    "scattergeo": [
                      {
                        "marker": {
                          "colorbar": {
                            "outlinewidth": 0,
                            "ticks": ""
                          }
                        },
                        "type": "scattergeo"
                      }
                    ],
                    "scattergl": [
                      {
                        "marker": {
                          "colorbar": {
                            "outlinewidth": 0,
                            "ticks": ""
                          }
                        },
                        "type": "scattergl"
                      }
                    ],
                    "scattermapbox": [
                      {
                        "marker": {
                          "colorbar": {
                            "outlinewidth": 0,
                            "ticks": ""
                          }
                        },
                        "type": "scattermapbox"
                      }
                    ],
                    "scatterpolar": [
                      {
                        "marker": {
                          "colorbar": {
                            "outlinewidth": 0,
                            "ticks": ""
                          }
                        },
                        "type": "scatterpolar"
                      }
                    ],
                    "scatterpolargl": [
                      {
                        "marker": {
                          "colorbar": {
                            "outlinewidth": 0,
                            "ticks": ""
                          }
                        },
                        "type": "scatterpolargl"
                      }
                    ],
                    "scatterternary": [
                      {
                        "marker": {
                          "colorbar": {
                            "outlinewidth": 0,
                            "ticks": ""
                          }
                        },
                        "type": "scatterternary"
                      }
                    ],
                    "surface": [
                      {
                        "colorbar": {
                          "outlinewidth": 0,
                          "ticks": ""
                        },
                        "colorscale": [
                          [
                            0,
                            "#0d0887"
                          ],
                          [
                            0.1111111111111111,
                            "#46039f"
                          ],
                          [
                            0.2222222222222222,
                            "#7201a8"
                          ],
                          [
                            0.3333333333333333,
                            "#9c179e"
                          ],
                          [
                            0.4444444444444444,
                            "#bd3786"
                          ],
                          [
                            0.5555555555555556,
                            "#d8576b"
                          ],
                          [
                            0.6666666666666666,
                            "#ed7953"
                          ],
                          [
                            0.7777777777777778,
                            "#fb9f3a"
                          ],
                          [
                            0.8888888888888888,
                            "#fdca26"
                          ],
                          [
                            1,
                            "#f0f921"
                          ]
                        ],
                        "type": "surface"
                      }
                    ],
                    "table": [
                      {
                        "cells": {
                          "fill": {
                            "color": "#EBF0F8"
                          },
                          "line": {
                            "color": "white"
                          }
                        },
                        "header": {
                          "fill": {
                            "color": "#C8D4E3"
                          },
                          "line": {
                            "color": "white"
                          }
                        },
                        "type": "table"
                      }
                    ]
                  },
                  "layout": {
                    "annotationdefaults": {
                      "arrowcolor": "#2a3f5f",
                      "arrowhead": 0,
                      "arrowwidth": 1
                    },
                    "autotypenumbers": "strict",
                    "coloraxis": {
                      "colorbar": {
                        "outlinewidth": 0,
                        "ticks": ""
                      }
                    },
                    "colorscale": {
                      "diverging": [
                        [
                          0,
                          "#8e0152"
                        ],
                        [
                          0.1,
                          "#c51b7d"
                        ],
                        [
                          0.2,
                          "#de77ae"
                        ],
                        [
                          0.3,
                          "#f1b6da"
                        ],
                        [
                          0.4,
                          "#fde0ef"
                        ],
                        [
                          0.5,
                          "#f7f7f7"
                        ],
                        [
                          0.6,
                          "#e6f5d0"
                        ],
                        [
                          0.7,
                          "#b8e186"
                        ],
                        [
                          0.8,
                          "#7fbc41"
                        ],
                        [
                          0.9,
                          "#4d9221"
                        ],
                        [
                          1,
                          "#276419"
                        ]
                      ],
                      "sequential": [
                        [
                          0,
                          "#0d0887"
                        ],
                        [
                          0.1111111111111111,
                          "#46039f"
                        ],
                        [
                          0.2222222222222222,
                          "#7201a8"
                        ],
                        [
                          0.3333333333333333,
                          "#9c179e"
                        ],
                        [
                          0.4444444444444444,
                          "#bd3786"
                        ],
                        [
                          0.5555555555555556,
                          "#d8576b"
                        ],
                        [
                          0.6666666666666666,
                          "#ed7953"
                        ],
                        [
                          0.7777777777777778,
                          "#fb9f3a"
                        ],
                        [
                          0.8888888888888888,
                          "#fdca26"
                        ],
                        [
                          1,
                          "#f0f921"
                        ]
                      ],
                      "sequentialminus": [
                        [
                          0,
                          "#0d0887"
                        ],
                        [
                          0.1111111111111111,
                          "#46039f"
                        ],
                        [
                          0.2222222222222222,
                          "#7201a8"
                        ],
                        [
                          0.3333333333333333,
                          "#9c179e"
                        ],
                        [
                          0.4444444444444444,
                          "#bd3786"
                        ],
                        [
                          0.5555555555555556,
                          "#d8576b"
                        ],
                        [
                          0.6666666666666666,
                          "#ed7953"
                        ],
                        [
                          0.7777777777777778,
                          "#fb9f3a"
                        ],
                        [
                          0.8888888888888888,
                          "#fdca26"
                        ],
                        [
                          1,
                          "#f0f921"
                        ]
                      ]
                    },
                    "colorway": [
                      "#636efa",
                      "#EF553B",
                      "#00cc96",
                      "#ab63fa",
                      "#FFA15A",
                      "#19d3f3",
                      "#FF6692",
                      "#B6E880",
                      "#FF97FF",
                      "#FECB52"
                    ],
                    "font": {
                      "color": "#2a3f5f"
                    },
                    "geo": {
                      "bgcolor": "white",
                      "lakecolor": "white",
                      "landcolor": "#E5ECF6",
                      "showlakes": true,
                      "showland": true,
                      "subunitcolor": "white"
                    },
                    "hoverlabel": {
                      "align": "left"
                    },
                    "hovermode": "closest",
                    "mapbox": {
                      "style": "light"
                    },
                    "paper_bgcolor": "white",
                    "plot_bgcolor": "#E5ECF6",
                    "polar": {
                      "angularaxis": {
                        "gridcolor": "white",
                        "linecolor": "white",
                        "ticks": ""
                      },
                      "bgcolor": "#E5ECF6",
                      "radialaxis": {
                        "gridcolor": "white",
                        "linecolor": "white",
                        "ticks": ""
                      }
                    },
                    "scene": {
                      "xaxis": {
                        "backgroundcolor": "#E5ECF6",
                        "gridcolor": "white",
                        "gridwidth": 2,
                        "linecolor": "white",
                        "showbackground": true,
                        "ticks": "",
                        "zerolinecolor": "white"
                      },
                      "yaxis": {
                        "backgroundcolor": "#E5ECF6",
                        "gridcolor": "white",
                        "gridwidth": 2,
                        "linecolor": "white",
                        "showbackground": true,
                        "ticks": "",
                        "zerolinecolor": "white"
                      },
                      "zaxis": {
                        "backgroundcolor": "#E5ECF6",
                        "gridcolor": "white",
                        "gridwidth": 2,
                        "linecolor": "white",
                        "showbackground": true,
                        "ticks": "",
                        "zerolinecolor": "white"
                      }
                    },
                    "shapedefaults": {
                      "line": {
                        "color": "#2a3f5f"
                      }
                    },
                    "ternary": {
                      "aaxis": {
                        "gridcolor": "white",
                        "linecolor": "white",
                        "ticks": ""
                      },
                      "baxis": {
                        "gridcolor": "white",
                        "linecolor": "white",
                        "ticks": ""
                      },
                      "bgcolor": "#E5ECF6",
                      "caxis": {
                        "gridcolor": "white",
                        "linecolor": "white",
                        "ticks": ""
                      }
                    },
                    "title": {
                      "x": 0.05
                    },
                    "xaxis": {
                      "automargin": true,
                      "gridcolor": "white",
                      "linecolor": "white",
                      "ticks": "",
                      "title": {
                        "standoff": 15
                      },
                      "zerolinecolor": "white",
                      "zerolinewidth": 2
                    },
                    "yaxis": {
                      "automargin": true,
                      "gridcolor": "white",
                      "linecolor": "white",
                      "ticks": "",
                      "title": {
                        "standoff": 15
                      },
                      "zerolinecolor": "white",
                      "zerolinewidth": 2
                    }
                  }
                },
                "title": {
                  "text": "3D Scatter Plot of Wordlist"
                }
              }
            }
          },
          "metadata": {},
          "output_type": "display_data"
        }
      ],
      "source": [
        "fig.update_layout(\n",
        "    title='3D Scatter Plot of Wordlist',\n",
        "    scene=dict(\n",
        "        xaxis_title='X Axis',\n",
        "        yaxis_title='Y Axis',\n",
        "        zaxis_title='Z Axis'\n",
        "    )\n",
        ")"
      ]
    },
    {
      "cell_type": "markdown",
      "id": "c7c3c38358b6df21",
      "metadata": {
        "id": "c7c3c38358b6df21"
      },
      "source": [
        "I think that the data in this shape (wordlist_xs, wordlist_ys, wordlist_zs, wordlist) can be plotted with `plotly` 3D scatter in a very straightforward way."
      ]
    },
    {
      "cell_type": "code",
      "execution_count": 12,
      "id": "8bdf0f23320a54a4",
      "metadata": {
        "ExecuteTime": {
          "end_time": "2024-02-09T11:34:22.903471Z",
          "start_time": "2024-02-09T11:34:22.584554Z"
        },
        "id": "8bdf0f23320a54a4"
      },
      "outputs": [],
      "source": [
        "wordlist_file_url = \"https://raw.githubusercontent.com/CCS-ZCU/noscemus_ETF/master/data/wordlist.json\"\n",
        "response = requests.get(wordlist_file_url)\n",
        "wordlist = requests.get(wordlist_file_url).json()"
      ]
    },
    {
      "cell_type": "code",
      "execution_count": 13,
      "id": "9bbda30eb39cc4bd",
      "metadata": {
        "ExecuteTime": {
          "end_time": "2024-02-09T11:34:41.384060Z",
          "start_time": "2024-02-09T11:34:41.379856Z"
        },
        "colab": {
          "base_uri": "https://localhost:8080/"
        },
        "id": "9bbda30eb39cc4bd",
        "outputId": "3fec76e2-9d96-4d34-eda0-dd67f7fb449b"
      },
      "outputs": [
        {
          "data": {
            "text/plain": [
              "['cognitio',\n",
              " 'disciplina',\n",
              " 'notitia',\n",
              " 'philosophia',\n",
              " 'ars',\n",
              " 'doctrina',\n",
              " 'geometria',\n",
              " 'mathematicus',\n",
              " 'peritia',\n",
              " 'studiosus']"
            ]
          },
          "execution_count": 13,
          "metadata": {},
          "output_type": "execute_result"
        }
      ],
      "source": [
        "# let's take a look at the first 10 words\n",
        "wordlist[:10]"
      ]
    },
    {
      "cell_type": "markdown",
      "id": "3fad13fa6263b74e",
      "metadata": {
        "id": "3fad13fa6263b74e"
      },
      "source": [
        "Now we can obtain their coordinates the same way as above.\n",
        "Once again, let start by choosing the positional data for the subcorpus we are interested in.\n",
        "\n"
      ]
    },
    {
      "cell_type": "code",
      "execution_count": 14,
      "id": "XfzSXwHIMJRw",
      "metadata": {
        "colab": {
          "base_uri": "https://localhost:8080/"
        },
        "id": "XfzSXwHIMJRw",
        "outputId": "36b91841-f0de-4a67-bd73-12201396e2fb"
      },
      "outputs": [
        {
          "name": "stdout",
          "output_type": "stream",
          "text": [
            "['cognitio', 'disciplina', 'notitia', 'philosophia', 'ars', 'doctrina', 'geometria', 'mathematicus', 'peritia', 'studiosus', 'eruditio', 'sapientia', 'res', 'mathematicarum', 'disco', 'institutio', 'cognitor', 'profiteor', 'moralis', 'addisco', 'studium', 'ueritas', 'ingenium', 'ignoratio', 'cultor', 'peritus', 'praeceptorum', 'theologia', 'cognosco', 'contemplatio', 'arcanus', 'praeceptum', 'artium', 'excolo', 'medicina', 'subsidium', 'omnis', 'perfectio', 'exercitatio', 'liberalis', 'dialecticus', 'opus', 'schola', 'doceo', 'meditatio', 'imperitia', 'medicinus', 'principium', 'ignoro', 'fateor', 'notio', 'propono', 'autoritas', 'necessarius', 'scholasticus', 'fundamentum', 'erudio', 'magistra', 'scriptum', 'scio', 'diuinus', 'felicitas', 'doctor', 'gloria', 'singularis', 'prudentia', 'naturalis', 'exercito', 'disputo', 'eruditus', 'perspicio', 'mereo', 'demonstro', 'agnosco', 'ingenius', 'inuentio', 'tia', 'utilitas', 'mysterium', 'politicus', 'utilis', 'intellegentia', 'professio', 'philosophus', 'excello', 'doctus', 'meritò', 'magister', 'imperitus', 'glorior', 'philosophicus', 'intellectus', 'existimatio', 'ignorantia', 'exerceo', 'industria', 'eruditor', 'edoceo', 'doctis', 'diuinatio']\n"
          ]
        }
      ],
      "source": [
        "print(wordlist)"
      ]
    },
    {
      "cell_type": "code",
      "execution_count": 15,
      "id": "1fe8fa11af86833b",
      "metadata": {
        "ExecuteTime": {
          "end_time": "2024-02-09T11:35:41.967859Z",
          "start_time": "2024-02-09T11:35:41.966261Z"
        },
        "id": "1fe8fa11af86833b"
      },
      "outputs": [],
      "source": [
        "# now we can obtain their coordinates the same way as above:\n",
        "\n",
        "\n",
        "#idx = [word[0] for word in enumerate(words) if word[1] in wordlist] # find the positional indeces\n",
        "#wordlist_xs, wordlist_ys, wordlist_zs = xs[idx], ys[idx], zs[idx]"
      ]
    },
    {
      "cell_type": "code",
      "execution_count": 16,
      "id": "65CsgeKgnleW",
      "metadata": {
        "colab": {
          "base_uri": "https://localhost:8080/",
          "height": 542
        },
        "id": "65CsgeKgnleW",
        "outputId": "4e72b6e2-7f85-463c-bec5-deb9a55997e8"
      },
      "outputs": [
        {
          "data": {
            "application/vnd.plotly.v1+json": {
              "config": {
                "plotlyServerURL": "https://plot.ly"
              },
              "data": [
                {
                  "hoverinfo": "text",
                  "marker": {
                    "color": "purple",
                    "opacity": 0.3,
                    "size": 5
                  },
                  "mode": "markers",
                  "text": [
                    "cognitio: wordcount: 1700, translation: examination, inquiry/investigation (judicial), acquiring knowledge, recognition",
                    "disciplina: wordcount: 1377, translation: teaching, instruction, education, training, discipline, method, science, study",
                    "notitia: wordcount: 1358, translation: notice, acquaintance, knowledge",
                    "philosophia: wordcount: 2517, translation: philosophy",
                    "ars: wordcount: 10072, translation: art, skill",
                    "doctrina: wordcount: 2880, translation: education, learning, science, teaching, instruction, principle, doctrine",
                    "geometria: wordcount: 1324, translation: geometry",
                    "mathematicus: wordcount: 2564, translation: mathematical, astrological",
                    "peritia: wordcount: 460, translation: practical knowledge, skill, expertise, experience",
                    "studiosus: wordcount: 945, translation: eager, keen, full of zeal, studious, devoted to, fond of",
                    "eruditio: wordcount: 1231, translation: instruction/teaching/education, learning/erudition, taught knowledge, culture",
                    "sapientia: wordcount: 2417, translation: (1.) have good taste (2.) have good sense, be wise",
                    "res: wordcount: 49014, translation: suddenly",
                    "mathematicarum: wordcount: 122, translation: mathematical, astrological",
                    "disco: wordcount: 2039, translation: learn, hear, get to know, become acquainted with, acquire knowledge/skill of/in",
                    "institutio: wordcount: 563, translation: institution, arrangement, instruction, education",
                    "cognitor: wordcount: 14, translation: guarantor of identity, he who knows/is acquainted with (person/thing), attorney",
                    "profiteor: wordcount: 961, translation: declare, profess",
                    "moralis: wordcount: 433, translation: moral, of philosophy, concerned w/ethics, concerned w/moral philosophy",
                    "addisco: wordcount: 288, translation: learn in addition/further/besides, learn",
                    "studium: wordcount: 4959, translation: zeal, enthusiasm, excitement, study",
                    "ueritas: wordcount: 3979, translation: ",
                    "ingenium: wordcount: 3969, translation: nature, innate talent",
                    "ignoratio: wordcount: 103, translation: ignorance, lack of knowledge, absence of data on which to make judgment",
                    "cultor: wordcount: 392, translation: inhabitant, husbandman/planter/grower, supporter, worshiper, who has interest",
                    "peritus: wordcount: 1089, translation: skilled, skillful, experienced, expert, with gen",
                    "praeceptorum: wordcount: 58, translation: take or receive in advance, anticipate, warn, order, teach, instruct",
                    "theologia: wordcount: 523, translation: theology, science/system of teaching/writing about God/gods/divine things",
                    "cognosco: wordcount: 3940, translation: become acquainted with, learn, recognize, (in perf.) know, become acquainted with/aware of, find to be, inquire/examine",
                    "contemplatio: wordcount: 564, translation: view, survey, taking aim, contemplation, consideration, study, meditation",
                    "arcanus: wordcount: 871, translation: secret, private, hidden, intimate, personal, confidential, mysterious, esoteric",
                    "praeceptum: wordcount: 1287, translation: take or receive in advance, anticipate, warn, order, teach, instruct",
                    "artium: wordcount: 73, translation: art, skill",
                    "excolo: wordcount: 243, translation: improve, develop, honor",
                    "medicina: wordcount: 1504, translation: of the art/practice of medicine/healing, medical, [w/ars or res => medicine]",
                    "subsidium: wordcount: 503, translation: help, relief, reinforcement",
                    "omnis: wordcount: 66387, translation: ",
                    "perfectio: wordcount: 1173, translation: perfection, completion, bringing to completion/perfection, ideal/completed form",
                    "exercitatio: wordcount: 810, translation: exercise, training, practice, discipline",
                    "liberalis: wordcount: 384, translation: of or relating to a free person, worthy of a free man, decent, liberal, generous",
                    "dialecticus: wordcount: 138, translation: dialectical, logical, reasoning (creatures)",
                    "opus: wordcount: 12867, translation: work, achievement, oeuvre",
                    "schola: wordcount: 929, translation: school",
                    "doceo: wordcount: 8054, translation: teach",
                    "meditatio: wordcount: 472, translation: contemplation, meditation, practicing",
                    "imperitia: wordcount: 202, translation: inexperience, ignorance",
                    "medicinus: wordcount: 986, translation: of the art/practice of medicine/healing, medical, [w/ars or res => medicine]",
                    "principium: wordcount: 7055, translation: beginning",
                    "ignoro: wordcount: 1501, translation: not know, be unfamiliar with, disregard, ignore, be ignorant of",
                    "fateor: wordcount: 2116, translation: confess, admit",
                    "notio: wordcount: 574, translation: judicial examination or enquiry",
                    "propono: wordcount: 4871, translation: display, propose, relate, put or place forward",
                    "autoritas: wordcount: 331, translation: ",
                    "necessarius: wordcount: 3749, translation: necessary, needed, essential, indispensable, vital/private (body part), close tied",
                    "scholasticus: wordcount: 241, translation: of/appropriate to a school of rhetoric/any school",
                    "fundamentum: wordcount: 1944, translation: foundation, beginning, basis",
                    "erudio: wordcount: 674, translation: educate, teach, instruct",
                    "magistra: wordcount: 152, translation: school mistress, teacher, mistress",
                    "scriptum: wordcount: 1862, translation: write",
                    "scio: wordcount: 5911, translation: know",
                    "diuinus: wordcount: 3057, translation: ",
                    "felicitas: wordcount: 831, translation: Happiness, Integrity and Knowledge",
                    "doctor: wordcount: 995, translation: teacher, instructor, trainer, doctor",
                    "gloria: wordcount: 2126, translation: glory, fame, honor",
                    "singularis: wordcount: 2865, translation: alone, unique, single, one by one, singular, remarkable, unusual",
                    "prudentia: wordcount: 1064, translation: wisdom",
                    "naturalis: wordcount: 6741, translation: natural, normal, typical, characteristic, innate, inherent, physical (science)",
                    "exercito: wordcount: 137, translation: train, discipline, drill",
                    "disputo: wordcount: 1016, translation: discuss, debate, argue",
                    "eruditus: wordcount: 667, translation: educate, teach, instruct",
                    "perspicio: wordcount: 659, translation: see through, examine, observe",
                    "mereo: wordcount: 1069, translation: earn, deserve/merit/have right, win/gain/incur, earn soldier/whore pay, serve",
                    "demonstro: wordcount: 4984, translation: point out, show, demonstrate",
                    "agnosco: wordcount: 2309, translation: recognize, realize, discern, acknowledge, claim, admit to/responsibility",
                    "ingenius: wordcount: 201, translation: genius",
                    "inuentio: wordcount: 282, translation: ",
                    "tia: wordcount: 1778, translation: ",
                    "utilitas: wordcount: 1479, translation: usefulness, advantage",
                    "mysterium: wordcount: 935, translation: mysterious, of a mystery/secret rite",
                    "politicus: wordcount: 956, translation: of the state, political",
                    "utilis: wordcount: 1257, translation: useful, advantageous",
                    "intellegentia: wordcount: 334, translation: understand, realize, understand",
                    "professio: wordcount: 327, translation: declaration/avowal/profession, formal declaration/return, profession/occupation",
                    "philosophus: wordcount: 3845, translation: philosopher",
                    "excello: wordcount: 369, translation: be eminent/preeminent, excel",
                    "doctus: wordcount: 1330, translation: teach",
                    "meritò: wordcount: 1475, translation: deservedly, rightly",
                    "magister: wordcount: 1004, translation: teacher",
                    "imperitus: wordcount: 481, translation: unskilled, inexperienced (in), unfamiliar, ignorant (of) (w/GEN)",
                    "glorior: wordcount: 309, translation: boast, brag, glory, pride oneself",
                    "philosophicus: wordcount: 853, translation: philosophical, philosophic, of/concerning philosophy",
                    "intellectus: wordcount: 1421, translation: understand, realize, understand",
                    "existimatio: wordcount: 347, translation: opinion (good), reputation/name, esteem, judgment/view/estimation, credit",
                    "ignorantia: wordcount: 487, translation: not know, be unfamiliar with, disregard, ignore, be ignorant of",
                    "exerceo: wordcount: 1508, translation: train, discipline, drill",
                    "industria: wordcount: 1650, translation: industrious, diligent, active, zealous, assiduous",
                    "eruditor: wordcount: 1235, translation: ",
                    "edoceo: wordcount: 518, translation: teach or inform thoroughly",
                    "doctis: wordcount: 376, translation: teach",
                    "diuinatio: wordcount: 86, translation: "
                  ],
                  "type": "scatter3d",
                  "x": [
                    0.3395707607269287,
                    0.48258787393569946,
                    0.3337053954601288,
                    0.35430148243904114
                  ],
                  "y": [
                    0.2766397297382355,
                    0.5270566344261169,
                    0.27134260535240173,
                    0.2833425998687744
                  ],
                  "z": [
                    0.5570163726806641,
                    0.7940443754196167,
                    0.5414133071899414,
                    0.5717411637306213
                  ]
                }
              ],
              "layout": {
                "hovermode": "closest",
                "scene": {
                  "xaxis": {
                    "title": {
                      "text": "X Axis"
                    }
                  },
                  "yaxis": {
                    "title": {
                      "text": "Y Axis"
                    }
                  },
                  "zaxis": {
                    "title": {
                      "text": "Z Axis"
                    }
                  }
                },
                "showlegend": false,
                "template": {
                  "data": {
                    "bar": [
                      {
                        "error_x": {
                          "color": "#2a3f5f"
                        },
                        "error_y": {
                          "color": "#2a3f5f"
                        },
                        "marker": {
                          "line": {
                            "color": "#E5ECF6",
                            "width": 0.5
                          },
                          "pattern": {
                            "fillmode": "overlay",
                            "size": 10,
                            "solidity": 0.2
                          }
                        },
                        "type": "bar"
                      }
                    ],
                    "barpolar": [
                      {
                        "marker": {
                          "line": {
                            "color": "#E5ECF6",
                            "width": 0.5
                          },
                          "pattern": {
                            "fillmode": "overlay",
                            "size": 10,
                            "solidity": 0.2
                          }
                        },
                        "type": "barpolar"
                      }
                    ],
                    "carpet": [
                      {
                        "aaxis": {
                          "endlinecolor": "#2a3f5f",
                          "gridcolor": "white",
                          "linecolor": "white",
                          "minorgridcolor": "white",
                          "startlinecolor": "#2a3f5f"
                        },
                        "baxis": {
                          "endlinecolor": "#2a3f5f",
                          "gridcolor": "white",
                          "linecolor": "white",
                          "minorgridcolor": "white",
                          "startlinecolor": "#2a3f5f"
                        },
                        "type": "carpet"
                      }
                    ],
                    "choropleth": [
                      {
                        "colorbar": {
                          "outlinewidth": 0,
                          "ticks": ""
                        },
                        "type": "choropleth"
                      }
                    ],
                    "contour": [
                      {
                        "colorbar": {
                          "outlinewidth": 0,
                          "ticks": ""
                        },
                        "colorscale": [
                          [
                            0,
                            "#0d0887"
                          ],
                          [
                            0.1111111111111111,
                            "#46039f"
                          ],
                          [
                            0.2222222222222222,
                            "#7201a8"
                          ],
                          [
                            0.3333333333333333,
                            "#9c179e"
                          ],
                          [
                            0.4444444444444444,
                            "#bd3786"
                          ],
                          [
                            0.5555555555555556,
                            "#d8576b"
                          ],
                          [
                            0.6666666666666666,
                            "#ed7953"
                          ],
                          [
                            0.7777777777777778,
                            "#fb9f3a"
                          ],
                          [
                            0.8888888888888888,
                            "#fdca26"
                          ],
                          [
                            1,
                            "#f0f921"
                          ]
                        ],
                        "type": "contour"
                      }
                    ],
                    "contourcarpet": [
                      {
                        "colorbar": {
                          "outlinewidth": 0,
                          "ticks": ""
                        },
                        "type": "contourcarpet"
                      }
                    ],
                    "heatmap": [
                      {
                        "colorbar": {
                          "outlinewidth": 0,
                          "ticks": ""
                        },
                        "colorscale": [
                          [
                            0,
                            "#0d0887"
                          ],
                          [
                            0.1111111111111111,
                            "#46039f"
                          ],
                          [
                            0.2222222222222222,
                            "#7201a8"
                          ],
                          [
                            0.3333333333333333,
                            "#9c179e"
                          ],
                          [
                            0.4444444444444444,
                            "#bd3786"
                          ],
                          [
                            0.5555555555555556,
                            "#d8576b"
                          ],
                          [
                            0.6666666666666666,
                            "#ed7953"
                          ],
                          [
                            0.7777777777777778,
                            "#fb9f3a"
                          ],
                          [
                            0.8888888888888888,
                            "#fdca26"
                          ],
                          [
                            1,
                            "#f0f921"
                          ]
                        ],
                        "type": "heatmap"
                      }
                    ],
                    "heatmapgl": [
                      {
                        "colorbar": {
                          "outlinewidth": 0,
                          "ticks": ""
                        },
                        "colorscale": [
                          [
                            0,
                            "#0d0887"
                          ],
                          [
                            0.1111111111111111,
                            "#46039f"
                          ],
                          [
                            0.2222222222222222,
                            "#7201a8"
                          ],
                          [
                            0.3333333333333333,
                            "#9c179e"
                          ],
                          [
                            0.4444444444444444,
                            "#bd3786"
                          ],
                          [
                            0.5555555555555556,
                            "#d8576b"
                          ],
                          [
                            0.6666666666666666,
                            "#ed7953"
                          ],
                          [
                            0.7777777777777778,
                            "#fb9f3a"
                          ],
                          [
                            0.8888888888888888,
                            "#fdca26"
                          ],
                          [
                            1,
                            "#f0f921"
                          ]
                        ],
                        "type": "heatmapgl"
                      }
                    ],
                    "histogram": [
                      {
                        "marker": {
                          "pattern": {
                            "fillmode": "overlay",
                            "size": 10,
                            "solidity": 0.2
                          }
                        },
                        "type": "histogram"
                      }
                    ],
                    "histogram2d": [
                      {
                        "colorbar": {
                          "outlinewidth": 0,
                          "ticks": ""
                        },
                        "colorscale": [
                          [
                            0,
                            "#0d0887"
                          ],
                          [
                            0.1111111111111111,
                            "#46039f"
                          ],
                          [
                            0.2222222222222222,
                            "#7201a8"
                          ],
                          [
                            0.3333333333333333,
                            "#9c179e"
                          ],
                          [
                            0.4444444444444444,
                            "#bd3786"
                          ],
                          [
                            0.5555555555555556,
                            "#d8576b"
                          ],
                          [
                            0.6666666666666666,
                            "#ed7953"
                          ],
                          [
                            0.7777777777777778,
                            "#fb9f3a"
                          ],
                          [
                            0.8888888888888888,
                            "#fdca26"
                          ],
                          [
                            1,
                            "#f0f921"
                          ]
                        ],
                        "type": "histogram2d"
                      }
                    ],
                    "histogram2dcontour": [
                      {
                        "colorbar": {
                          "outlinewidth": 0,
                          "ticks": ""
                        },
                        "colorscale": [
                          [
                            0,
                            "#0d0887"
                          ],
                          [
                            0.1111111111111111,
                            "#46039f"
                          ],
                          [
                            0.2222222222222222,
                            "#7201a8"
                          ],
                          [
                            0.3333333333333333,
                            "#9c179e"
                          ],
                          [
                            0.4444444444444444,
                            "#bd3786"
                          ],
                          [
                            0.5555555555555556,
                            "#d8576b"
                          ],
                          [
                            0.6666666666666666,
                            "#ed7953"
                          ],
                          [
                            0.7777777777777778,
                            "#fb9f3a"
                          ],
                          [
                            0.8888888888888888,
                            "#fdca26"
                          ],
                          [
                            1,
                            "#f0f921"
                          ]
                        ],
                        "type": "histogram2dcontour"
                      }
                    ],
                    "mesh3d": [
                      {
                        "colorbar": {
                          "outlinewidth": 0,
                          "ticks": ""
                        },
                        "type": "mesh3d"
                      }
                    ],
                    "parcoords": [
                      {
                        "line": {
                          "colorbar": {
                            "outlinewidth": 0,
                            "ticks": ""
                          }
                        },
                        "type": "parcoords"
                      }
                    ],
                    "pie": [
                      {
                        "automargin": true,
                        "type": "pie"
                      }
                    ],
                    "scatter": [
                      {
                        "fillpattern": {
                          "fillmode": "overlay",
                          "size": 10,
                          "solidity": 0.2
                        },
                        "type": "scatter"
                      }
                    ],
                    "scatter3d": [
                      {
                        "line": {
                          "colorbar": {
                            "outlinewidth": 0,
                            "ticks": ""
                          }
                        },
                        "marker": {
                          "colorbar": {
                            "outlinewidth": 0,
                            "ticks": ""
                          }
                        },
                        "type": "scatter3d"
                      }
                    ],
                    "scattercarpet": [
                      {
                        "marker": {
                          "colorbar": {
                            "outlinewidth": 0,
                            "ticks": ""
                          }
                        },
                        "type": "scattercarpet"
                      }
                    ],
                    "scattergeo": [
                      {
                        "marker": {
                          "colorbar": {
                            "outlinewidth": 0,
                            "ticks": ""
                          }
                        },
                        "type": "scattergeo"
                      }
                    ],
                    "scattergl": [
                      {
                        "marker": {
                          "colorbar": {
                            "outlinewidth": 0,
                            "ticks": ""
                          }
                        },
                        "type": "scattergl"
                      }
                    ],
                    "scattermapbox": [
                      {
                        "marker": {
                          "colorbar": {
                            "outlinewidth": 0,
                            "ticks": ""
                          }
                        },
                        "type": "scattermapbox"
                      }
                    ],
                    "scatterpolar": [
                      {
                        "marker": {
                          "colorbar": {
                            "outlinewidth": 0,
                            "ticks": ""
                          }
                        },
                        "type": "scatterpolar"
                      }
                    ],
                    "scatterpolargl": [
                      {
                        "marker": {
                          "colorbar": {
                            "outlinewidth": 0,
                            "ticks": ""
                          }
                        },
                        "type": "scatterpolargl"
                      }
                    ],
                    "scatterternary": [
                      {
                        "marker": {
                          "colorbar": {
                            "outlinewidth": 0,
                            "ticks": ""
                          }
                        },
                        "type": "scatterternary"
                      }
                    ],
                    "surface": [
                      {
                        "colorbar": {
                          "outlinewidth": 0,
                          "ticks": ""
                        },
                        "colorscale": [
                          [
                            0,
                            "#0d0887"
                          ],
                          [
                            0.1111111111111111,
                            "#46039f"
                          ],
                          [
                            0.2222222222222222,
                            "#7201a8"
                          ],
                          [
                            0.3333333333333333,
                            "#9c179e"
                          ],
                          [
                            0.4444444444444444,
                            "#bd3786"
                          ],
                          [
                            0.5555555555555556,
                            "#d8576b"
                          ],
                          [
                            0.6666666666666666,
                            "#ed7953"
                          ],
                          [
                            0.7777777777777778,
                            "#fb9f3a"
                          ],
                          [
                            0.8888888888888888,
                            "#fdca26"
                          ],
                          [
                            1,
                            "#f0f921"
                          ]
                        ],
                        "type": "surface"
                      }
                    ],
                    "table": [
                      {
                        "cells": {
                          "fill": {
                            "color": "#EBF0F8"
                          },
                          "line": {
                            "color": "white"
                          }
                        },
                        "header": {
                          "fill": {
                            "color": "#C8D4E3"
                          },
                          "line": {
                            "color": "white"
                          }
                        },
                        "type": "table"
                      }
                    ]
                  },
                  "layout": {
                    "annotationdefaults": {
                      "arrowcolor": "#2a3f5f",
                      "arrowhead": 0,
                      "arrowwidth": 1
                    },
                    "autotypenumbers": "strict",
                    "coloraxis": {
                      "colorbar": {
                        "outlinewidth": 0,
                        "ticks": ""
                      }
                    },
                    "colorscale": {
                      "diverging": [
                        [
                          0,
                          "#8e0152"
                        ],
                        [
                          0.1,
                          "#c51b7d"
                        ],
                        [
                          0.2,
                          "#de77ae"
                        ],
                        [
                          0.3,
                          "#f1b6da"
                        ],
                        [
                          0.4,
                          "#fde0ef"
                        ],
                        [
                          0.5,
                          "#f7f7f7"
                        ],
                        [
                          0.6,
                          "#e6f5d0"
                        ],
                        [
                          0.7,
                          "#b8e186"
                        ],
                        [
                          0.8,
                          "#7fbc41"
                        ],
                        [
                          0.9,
                          "#4d9221"
                        ],
                        [
                          1,
                          "#276419"
                        ]
                      ],
                      "sequential": [
                        [
                          0,
                          "#0d0887"
                        ],
                        [
                          0.1111111111111111,
                          "#46039f"
                        ],
                        [
                          0.2222222222222222,
                          "#7201a8"
                        ],
                        [
                          0.3333333333333333,
                          "#9c179e"
                        ],
                        [
                          0.4444444444444444,
                          "#bd3786"
                        ],
                        [
                          0.5555555555555556,
                          "#d8576b"
                        ],
                        [
                          0.6666666666666666,
                          "#ed7953"
                        ],
                        [
                          0.7777777777777778,
                          "#fb9f3a"
                        ],
                        [
                          0.8888888888888888,
                          "#fdca26"
                        ],
                        [
                          1,
                          "#f0f921"
                        ]
                      ],
                      "sequentialminus": [
                        [
                          0,
                          "#0d0887"
                        ],
                        [
                          0.1111111111111111,
                          "#46039f"
                        ],
                        [
                          0.2222222222222222,
                          "#7201a8"
                        ],
                        [
                          0.3333333333333333,
                          "#9c179e"
                        ],
                        [
                          0.4444444444444444,
                          "#bd3786"
                        ],
                        [
                          0.5555555555555556,
                          "#d8576b"
                        ],
                        [
                          0.6666666666666666,
                          "#ed7953"
                        ],
                        [
                          0.7777777777777778,
                          "#fb9f3a"
                        ],
                        [
                          0.8888888888888888,
                          "#fdca26"
                        ],
                        [
                          1,
                          "#f0f921"
                        ]
                      ]
                    },
                    "colorway": [
                      "#636efa",
                      "#EF553B",
                      "#00cc96",
                      "#ab63fa",
                      "#FFA15A",
                      "#19d3f3",
                      "#FF6692",
                      "#B6E880",
                      "#FF97FF",
                      "#FECB52"
                    ],
                    "font": {
                      "color": "#2a3f5f"
                    },
                    "geo": {
                      "bgcolor": "white",
                      "lakecolor": "white",
                      "landcolor": "#E5ECF6",
                      "showlakes": true,
                      "showland": true,
                      "subunitcolor": "white"
                    },
                    "hoverlabel": {
                      "align": "left"
                    },
                    "hovermode": "closest",
                    "mapbox": {
                      "style": "light"
                    },
                    "paper_bgcolor": "white",
                    "plot_bgcolor": "#E5ECF6",
                    "polar": {
                      "angularaxis": {
                        "gridcolor": "white",
                        "linecolor": "white",
                        "ticks": ""
                      },
                      "bgcolor": "#E5ECF6",
                      "radialaxis": {
                        "gridcolor": "white",
                        "linecolor": "white",
                        "ticks": ""
                      }
                    },
                    "scene": {
                      "xaxis": {
                        "backgroundcolor": "#E5ECF6",
                        "gridcolor": "white",
                        "gridwidth": 2,
                        "linecolor": "white",
                        "showbackground": true,
                        "ticks": "",
                        "zerolinecolor": "white"
                      },
                      "yaxis": {
                        "backgroundcolor": "#E5ECF6",
                        "gridcolor": "white",
                        "gridwidth": 2,
                        "linecolor": "white",
                        "showbackground": true,
                        "ticks": "",
                        "zerolinecolor": "white"
                      },
                      "zaxis": {
                        "backgroundcolor": "#E5ECF6",
                        "gridcolor": "white",
                        "gridwidth": 2,
                        "linecolor": "white",
                        "showbackground": true,
                        "ticks": "",
                        "zerolinecolor": "white"
                      }
                    },
                    "shapedefaults": {
                      "line": {
                        "color": "#2a3f5f"
                      }
                    },
                    "ternary": {
                      "aaxis": {
                        "gridcolor": "white",
                        "linecolor": "white",
                        "ticks": ""
                      },
                      "baxis": {
                        "gridcolor": "white",
                        "linecolor": "white",
                        "ticks": ""
                      },
                      "bgcolor": "#E5ECF6",
                      "caxis": {
                        "gridcolor": "white",
                        "linecolor": "white",
                        "ticks": ""
                      }
                    },
                    "title": {
                      "x": 0.05
                    },
                    "xaxis": {
                      "automargin": true,
                      "gridcolor": "white",
                      "linecolor": "white",
                      "ticks": "",
                      "title": {
                        "standoff": 15
                      },
                      "zerolinecolor": "white",
                      "zerolinewidth": 2
                    },
                    "yaxis": {
                      "automargin": true,
                      "gridcolor": "white",
                      "linecolor": "white",
                      "ticks": "",
                      "title": {
                        "standoff": 15
                      },
                      "zerolinecolor": "white",
                      "zerolinewidth": 2
                    }
                  }
                },
                "title": {
                  "text": "Embeddings"
                }
              }
            }
          },
          "metadata": {},
          "output_type": "display_data"
        }
      ],
      "source": [
        "import plotly.graph_objects as go\n",
        "\n",
        "\n",
        "\n",
        "hover_text = [word + \": \" + word_dict[word] for word in wordlist]\n",
        "\n",
        "fig = go.Figure(data=go.Scatter3d(\n",
        "    x=wordlist_xs,\n",
        "    y=wordlist_ys,\n",
        "    z=wordlist_zs,\n",
        "    mode='markers',\n",
        "    marker=dict(\n",
        "        size=5,\n",
        "        color='purple',\n",
        "        opacity=0.3\n",
        "    ),\n",
        "    text=hover_text,  # use mapped hover text\n",
        "    hoverinfo='text',  # ensure only the text field is displayed on hover\n",
        "))\n",
        "\n",
        "fig.update_layout(\n",
        "    title='Embeddings',\n",
        "    scene=dict(\n",
        "        xaxis_title='X Axis',\n",
        "        yaxis_title='Y Axis',\n",
        "        zaxis_title='Z Axis'\n",
        "    ),\n",
        "    hovermode='closest',\n",
        "    showlegend=False\n",
        ")\n",
        "\n",
        "fig.show()"
      ]
    },
    {
      "cell_type": "code",
      "execution_count": 17,
      "id": "pSgYP3OFoVga",
      "metadata": {
        "id": "pSgYP3OFoVga"
      },
      "outputs": [],
      "source": [
        "fig.write_html(\"./test.html\")"
      ]
    },
    {
      "cell_type": "code",
      "execution_count": 19,
      "id": "cbaad443",
      "metadata": {},
      "outputs": [
        {
          "name": "stdout",
          "output_type": "stream",
          "text": [
            "Collecting dash-ag-grid\n",
            "  Downloading dash_ag_grid-31.0.1-py3-none-any.whl.metadata (4.4 kB)\n",
            "Collecting dash>=2 (from dash-ag-grid)\n",
            "  Downloading dash-2.16.1-py3-none-any.whl.metadata (10 kB)\n",
            "Collecting Flask<3.1,>=1.0.4 (from dash>=2->dash-ag-grid)\n",
            "  Downloading flask-3.0.2-py3-none-any.whl.metadata (3.6 kB)\n",
            "Collecting Werkzeug<3.1 (from dash>=2->dash-ag-grid)\n",
            "  Downloading werkzeug-3.0.1-py3-none-any.whl.metadata (4.1 kB)\n",
            "Requirement already satisfied: plotly>=5.0.0 in c:\\users\\svadl\\appdata\\local\\programs\\python\\python312\\lib\\site-packages (from dash>=2->dash-ag-grid) (5.20.0)\n",
            "Collecting dash-html-components==2.0.0 (from dash>=2->dash-ag-grid)\n",
            "  Downloading dash_html_components-2.0.0-py3-none-any.whl.metadata (3.8 kB)\n",
            "Collecting dash-core-components==2.0.0 (from dash>=2->dash-ag-grid)\n",
            "  Downloading dash_core_components-2.0.0-py3-none-any.whl.metadata (2.9 kB)\n",
            "Collecting dash-table==5.0.0 (from dash>=2->dash-ag-grid)\n",
            "  Downloading dash_table-5.0.0-py3-none-any.whl.metadata (2.4 kB)\n",
            "Collecting importlib-metadata (from dash>=2->dash-ag-grid)\n",
            "  Downloading importlib_metadata-7.1.0-py3-none-any.whl.metadata (4.7 kB)\n",
            "Collecting typing-extensions>=4.1.1 (from dash>=2->dash-ag-grid)\n",
            "  Downloading typing_extensions-4.10.0-py3-none-any.whl.metadata (3.0 kB)\n",
            "Requirement already satisfied: requests in c:\\users\\svadl\\appdata\\local\\programs\\python\\python312\\lib\\site-packages (from dash>=2->dash-ag-grid) (2.31.0)\n",
            "Collecting retrying (from dash>=2->dash-ag-grid)\n",
            "  Downloading retrying-1.3.4-py3-none-any.whl.metadata (6.9 kB)\n",
            "Requirement already satisfied: nest-asyncio in c:\\users\\svadl\\appdata\\roaming\\python\\python312\\site-packages (from dash>=2->dash-ag-grid) (1.6.0)\n",
            "Collecting setuptools (from dash>=2->dash-ag-grid)\n",
            "  Downloading setuptools-69.2.0-py3-none-any.whl.metadata (6.3 kB)\n",
            "Collecting Jinja2>=3.1.2 (from Flask<3.1,>=1.0.4->dash>=2->dash-ag-grid)\n",
            "  Downloading Jinja2-3.1.3-py3-none-any.whl.metadata (3.3 kB)\n",
            "Collecting itsdangerous>=2.1.2 (from Flask<3.1,>=1.0.4->dash>=2->dash-ag-grid)\n",
            "  Downloading itsdangerous-2.1.2-py3-none-any.whl.metadata (2.9 kB)\n",
            "Collecting click>=8.1.3 (from Flask<3.1,>=1.0.4->dash>=2->dash-ag-grid)\n",
            "  Downloading click-8.1.7-py3-none-any.whl.metadata (3.0 kB)\n",
            "Collecting blinker>=1.6.2 (from Flask<3.1,>=1.0.4->dash>=2->dash-ag-grid)\n",
            "  Downloading blinker-1.7.0-py3-none-any.whl.metadata (1.9 kB)\n",
            "Requirement already satisfied: tenacity>=6.2.0 in c:\\users\\svadl\\appdata\\local\\programs\\python\\python312\\lib\\site-packages (from plotly>=5.0.0->dash>=2->dash-ag-grid) (8.2.3)\n",
            "Requirement already satisfied: packaging in c:\\users\\svadl\\appdata\\roaming\\python\\python312\\site-packages (from plotly>=5.0.0->dash>=2->dash-ag-grid) (24.0)\n",
            "Collecting MarkupSafe>=2.1.1 (from Werkzeug<3.1->dash>=2->dash-ag-grid)\n",
            "  Downloading MarkupSafe-2.1.5-cp312-cp312-win_amd64.whl.metadata (3.1 kB)\n",
            "Collecting zipp>=0.5 (from importlib-metadata->dash>=2->dash-ag-grid)\n",
            "  Downloading zipp-3.18.1-py3-none-any.whl.metadata (3.5 kB)\n",
            "Requirement already satisfied: charset-normalizer<4,>=2 in c:\\users\\svadl\\appdata\\local\\programs\\python\\python312\\lib\\site-packages (from requests->dash>=2->dash-ag-grid) (3.3.2)\n",
            "Requirement already satisfied: idna<4,>=2.5 in c:\\users\\svadl\\appdata\\local\\programs\\python\\python312\\lib\\site-packages (from requests->dash>=2->dash-ag-grid) (3.6)\n",
            "Requirement already satisfied: urllib3<3,>=1.21.1 in c:\\users\\svadl\\appdata\\local\\programs\\python\\python312\\lib\\site-packages (from requests->dash>=2->dash-ag-grid) (2.2.1)\n",
            "Requirement already satisfied: certifi>=2017.4.17 in c:\\users\\svadl\\appdata\\local\\programs\\python\\python312\\lib\\site-packages (from requests->dash>=2->dash-ag-grid) (2024.2.2)\n",
            "Requirement already satisfied: six>=1.7.0 in c:\\users\\svadl\\appdata\\roaming\\python\\python312\\site-packages (from retrying->dash>=2->dash-ag-grid) (1.16.0)\n",
            "Requirement already satisfied: colorama in c:\\users\\svadl\\appdata\\roaming\\python\\python312\\site-packages (from click>=8.1.3->Flask<3.1,>=1.0.4->dash>=2->dash-ag-grid) (0.4.6)\n",
            "Downloading dash_ag_grid-31.0.1-py3-none-any.whl (4.9 MB)\n",
            "   ---------------------------------------- 0.0/4.9 MB ? eta -:--:--\n",
            "    --------------------------------------- 0.1/4.9 MB 1.7 MB/s eta 0:00:03\n",
            "   -- ------------------------------------- 0.2/4.9 MB 3.7 MB/s eta 0:00:02\n",
            "   ---- ----------------------------------- 0.5/4.9 MB 3.9 MB/s eta 0:00:02\n",
            "   ---- ----------------------------------- 0.6/4.9 MB 4.1 MB/s eta 0:00:02\n",
            "   ----- ---------------------------------- 0.7/4.9 MB 3.6 MB/s eta 0:00:02\n",
            "   ----- ---------------------------------- 0.7/4.9 MB 3.6 MB/s eta 0:00:02\n",
            "   ------ --------------------------------- 0.8/4.9 MB 2.8 MB/s eta 0:00:02\n",
            "   -------- ------------------------------- 1.0/4.9 MB 3.2 MB/s eta 0:00:02\n",
            "   -------- ------------------------------- 1.0/4.9 MB 3.2 MB/s eta 0:00:02\n",
            "   -------- ------------------------------- 1.0/4.9 MB 3.2 MB/s eta 0:00:02\n",
            "   -------- ------------------------------- 1.0/4.9 MB 3.2 MB/s eta 0:00:02\n",
            "   -------- ------------------------------- 1.1/4.9 MB 2.0 MB/s eta 0:00:02\n",
            "   ---------- ----------------------------- 1.3/4.9 MB 2.2 MB/s eta 0:00:02\n",
            "   ------------ --------------------------- 1.5/4.9 MB 2.4 MB/s eta 0:00:02\n",
            "   -------------- ------------------------- 1.8/4.9 MB 2.7 MB/s eta 0:00:02\n",
            "   ----------------- ---------------------- 2.1/4.9 MB 2.9 MB/s eta 0:00:01\n",
            "   ----------------- ---------------------- 2.1/4.9 MB 2.9 MB/s eta 0:00:01\n",
            "   ----------------- ---------------------- 2.1/4.9 MB 2.9 MB/s eta 0:00:01\n",
            "   ----------------- ---------------------- 2.1/4.9 MB 2.9 MB/s eta 0:00:01\n",
            "   ----------------- ---------------------- 2.1/4.9 MB 2.9 MB/s eta 0:00:01\n",
            "   ----------------- ---------------------- 2.1/4.9 MB 2.9 MB/s eta 0:00:01\n",
            "   ----------------- ---------------------- 2.1/4.9 MB 2.9 MB/s eta 0:00:01\n",
            "   ----------------- ---------------------- 2.1/4.9 MB 2.9 MB/s eta 0:00:01\n",
            "   ------------------ --------------------- 2.2/4.9 MB 2.0 MB/s eta 0:00:02\n",
            "   -------------------- ------------------- 2.5/4.9 MB 2.2 MB/s eta 0:00:02\n",
            "   ---------------------- ----------------- 2.7/4.9 MB 2.3 MB/s eta 0:00:01\n",
            "   ------------------------ --------------- 2.9/4.9 MB 2.4 MB/s eta 0:00:01\n",
            "   -------------------------- ------------- 3.2/4.9 MB 2.5 MB/s eta 0:00:01\n",
            "   ---------------------------- ----------- 3.5/4.9 MB 2.6 MB/s eta 0:00:01\n",
            "   ------------------------------ --------- 3.7/4.9 MB 2.7 MB/s eta 0:00:01\n",
            "   --------------------------------- ------ 4.0/4.9 MB 2.9 MB/s eta 0:00:01\n",
            "   ----------------------------------- ---- 4.3/4.9 MB 2.9 MB/s eta 0:00:01\n",
            "   ------------------------------------- -- 4.6/4.9 MB 3.0 MB/s eta 0:00:01\n",
            "   ---------------------------------------  4.9/4.9 MB 3.1 MB/s eta 0:00:01\n",
            "   ---------------------------------------- 4.9/4.9 MB 3.1 MB/s eta 0:00:00\n",
            "Downloading dash-2.16.1-py3-none-any.whl (10.2 MB)\n",
            "   ---------------------------------------- 0.0/10.2 MB ? eta -:--:--\n",
            "   - -------------------------------------- 0.3/10.2 MB 6.3 MB/s eta 0:00:02\n",
            "   -- ------------------------------------- 0.6/10.2 MB 6.3 MB/s eta 0:00:02\n",
            "   --- ------------------------------------ 0.8/10.2 MB 6.6 MB/s eta 0:00:02\n",
            "   ---- ----------------------------------- 1.1/10.2 MB 5.8 MB/s eta 0:00:02\n",
            "   ----- ---------------------------------- 1.4/10.2 MB 6.2 MB/s eta 0:00:02\n",
            "   ------ --------------------------------- 1.6/10.2 MB 5.8 MB/s eta 0:00:02\n",
            "   ------- -------------------------------- 2.0/10.2 MB 6.0 MB/s eta 0:00:02\n",
            "   -------- ------------------------------- 2.2/10.2 MB 6.0 MB/s eta 0:00:02\n",
            "   --------- ------------------------------ 2.5/10.2 MB 6.2 MB/s eta 0:00:02\n",
            "   ---------- ----------------------------- 2.8/10.2 MB 6.1 MB/s eta 0:00:02\n",
            "   ----------- ---------------------------- 3.0/10.2 MB 6.1 MB/s eta 0:00:02\n",
            "   ------------- -------------------------- 3.4/10.2 MB 6.0 MB/s eta 0:00:02\n",
            "   -------------- ------------------------- 3.6/10.2 MB 6.1 MB/s eta 0:00:02\n",
            "   --------------- ------------------------ 3.9/10.2 MB 6.1 MB/s eta 0:00:02\n",
            "   ---------------- ----------------------- 4.1/10.2 MB 5.9 MB/s eta 0:00:02\n",
            "   ----------------- ---------------------- 4.4/10.2 MB 6.0 MB/s eta 0:00:01\n",
            "   ------------------ --------------------- 4.7/10.2 MB 6.1 MB/s eta 0:00:01\n",
            "   ------------------- -------------------- 4.9/10.2 MB 6.1 MB/s eta 0:00:01\n",
            "   -------------------- ------------------- 5.1/10.2 MB 5.9 MB/s eta 0:00:01\n",
            "   --------------------- ------------------ 5.4/10.2 MB 6.0 MB/s eta 0:00:01\n",
            "   ---------------------- ----------------- 5.7/10.2 MB 6.0 MB/s eta 0:00:01\n",
            "   ----------------------- ---------------- 6.0/10.2 MB 6.0 MB/s eta 0:00:01\n",
            "   ------------------------ --------------- 6.3/10.2 MB 6.0 MB/s eta 0:00:01\n",
            "   ------------------------- -------------- 6.5/10.2 MB 6.0 MB/s eta 0:00:01\n",
            "   -------------------------- ------------- 6.9/10.2 MB 6.0 MB/s eta 0:00:01\n",
            "   ---------------------------- ----------- 7.2/10.2 MB 6.0 MB/s eta 0:00:01\n",
            "   ----------------------------- ---------- 7.5/10.2 MB 6.1 MB/s eta 0:00:01\n",
            "   ------------------------------ --------- 7.7/10.2 MB 6.0 MB/s eta 0:00:01\n",
            "   ------------------------------- -------- 8.0/10.2 MB 6.0 MB/s eta 0:00:01\n",
            "   -------------------------------- ------- 8.3/10.2 MB 6.1 MB/s eta 0:00:01\n",
            "   --------------------------------- ------ 8.5/10.2 MB 6.0 MB/s eta 0:00:01\n",
            "   ---------------------------------- ----- 8.8/10.2 MB 6.0 MB/s eta 0:00:01\n",
            "   ----------------------------------- ---- 9.0/10.2 MB 6.0 MB/s eta 0:00:01\n",
            "   ------------------------------------ --- 9.3/10.2 MB 5.9 MB/s eta 0:00:01\n",
            "   ------------------------------------- -- 9.6/10.2 MB 5.9 MB/s eta 0:00:01\n",
            "   -------------------------------------- - 9.7/10.2 MB 5.9 MB/s eta 0:00:01\n",
            "   -------------------------------------- - 9.7/10.2 MB 5.9 MB/s eta 0:00:01\n",
            "   ---------------------------------------  10.1/10.2 MB 5.8 MB/s eta 0:00:01\n",
            "   ---------------------------------------- 10.2/10.2 MB 5.7 MB/s eta 0:00:00\n",
            "Downloading dash_core_components-2.0.0-py3-none-any.whl (3.8 kB)\n",
            "Downloading dash_html_components-2.0.0-py3-none-any.whl (4.1 kB)\n",
            "Downloading dash_table-5.0.0-py3-none-any.whl (3.9 kB)\n",
            "Downloading flask-3.0.2-py3-none-any.whl (101 kB)\n",
            "   ---------------------------------------- 0.0/101.3 kB ? eta -:--:--\n",
            "   ---------------------------------------- 101.3/101.3 kB 6.1 MB/s eta 0:00:00\n",
            "Downloading typing_extensions-4.10.0-py3-none-any.whl (33 kB)\n",
            "Downloading werkzeug-3.0.1-py3-none-any.whl (226 kB)\n",
            "   ---------------------------------------- 0.0/226.7 kB ? eta -:--:--\n",
            "   ------------------------------------ --- 204.8/226.7 kB 6.3 MB/s eta 0:00:01\n",
            "   ---------------------------------------- 226.7/226.7 kB 4.6 MB/s eta 0:00:00\n",
            "Downloading importlib_metadata-7.1.0-py3-none-any.whl (24 kB)\n",
            "Downloading retrying-1.3.4-py3-none-any.whl (11 kB)\n",
            "Downloading setuptools-69.2.0-py3-none-any.whl (821 kB)\n",
            "   ---------------------------------------- 0.0/821.5 kB ? eta -:--:--\n",
            "   ---------- ----------------------------- 225.3/821.5 kB 6.9 MB/s eta 0:00:01\n",
            "   ----------------------- ---------------- 481.3/821.5 kB 6.0 MB/s eta 0:00:01\n",
            "   ------------------------------- -------- 655.4/821.5 kB 5.9 MB/s eta 0:00:01\n",
            "   ---------------------------------------- 821.5/821.5 kB 5.2 MB/s eta 0:00:00\n",
            "Downloading blinker-1.7.0-py3-none-any.whl (13 kB)\n",
            "Downloading click-8.1.7-py3-none-any.whl (97 kB)\n",
            "   ---------------------------------------- 0.0/97.9 kB ? eta -:--:--\n",
            "   ---------------------------------------- 97.9/97.9 kB 5.8 MB/s eta 0:00:00\n",
            "Downloading itsdangerous-2.1.2-py3-none-any.whl (15 kB)\n",
            "Downloading Jinja2-3.1.3-py3-none-any.whl (133 kB)\n",
            "   ---------------------------------------- 0.0/133.2 kB ? eta -:--:--\n",
            "   ---------------------------------------- 133.2/133.2 kB 4.0 MB/s eta 0:00:00\n",
            "Downloading MarkupSafe-2.1.5-cp312-cp312-win_amd64.whl (17 kB)\n",
            "Downloading zipp-3.18.1-py3-none-any.whl (8.2 kB)\n",
            "Installing collected packages: dash-table, dash-html-components, dash-core-components, zipp, typing-extensions, setuptools, retrying, MarkupSafe, itsdangerous, click, blinker, Werkzeug, Jinja2, importlib-metadata, Flask, dash, dash-ag-grid\n",
            "Successfully installed Flask-3.0.2 Jinja2-3.1.3 MarkupSafe-2.1.5 Werkzeug-3.0.1 blinker-1.7.0 click-8.1.7 dash-2.16.1 dash-ag-grid-31.0.1 dash-core-components-2.0.0 dash-html-components-2.0.0 dash-table-5.0.0 importlib-metadata-7.1.0 itsdangerous-2.1.2 retrying-1.3.4 setuptools-69.2.0 typing-extensions-4.10.0 zipp-3.18.1\n",
            "Note: you may need to restart the kernel to use updated packages.\n"
          ]
        },
        {
          "name": "stderr",
          "output_type": "stream",
          "text": [
            "  WARNING: The script flask.exe is installed in 'c:\\Users\\svadl\\AppData\\Local\\Programs\\Python\\Python312\\Scripts' which is not on PATH.\n",
            "  Consider adding this directory to PATH or, if you prefer to suppress this warning, use --no-warn-script-location.\n",
            "  WARNING: The scripts dash-generate-components.exe, dash-update-components.exe and renderer.exe are installed in 'c:\\Users\\svadl\\AppData\\Local\\Programs\\Python\\Python312\\Scripts' which is not on PATH.\n",
            "  Consider adding this directory to PATH or, if you prefer to suppress this warning, use --no-warn-script-location.\n"
          ]
        }
      ],
      "source": [
        "pip install dash-ag-grid"
      ]
    },
    {
      "cell_type": "code",
      "execution_count": 26,
      "id": "5O9tI5it-QGb",
      "metadata": {
        "colab": {
          "base_uri": "https://localhost:8080/",
          "height": 211
        },
        "id": "5O9tI5it-QGb",
        "outputId": "69179c54-5611-4777-87d5-ddcf1b09908f"
      },
      "outputs": [
        {
          "ename": "AttributeError",
          "evalue": "'list' object has no attribute 'to_dict'",
          "output_type": "error",
          "traceback": [
            "\u001b[1;31m---------------------------------------------------------------------------\u001b[0m",
            "\u001b[1;31mAttributeError\u001b[0m                            Traceback (most recent call last)",
            "Cell \u001b[1;32mIn[26], line 17\u001b[0m\n\u001b[0;32m      7\u001b[0m df \u001b[38;5;241m=\u001b[39m wordlist\n\u001b[0;32m      9\u001b[0m columnDefs \u001b[38;5;241m=\u001b[39m [{\u001b[38;5;124m\"\u001b[39m\u001b[38;5;124mword\u001b[39m\u001b[38;5;124m\"\u001b[39m: col} \u001b[38;5;28;01mfor\u001b[39;00m col \u001b[38;5;129;01min\u001b[39;00m [\u001b[38;5;124m'\u001b[39m\u001b[38;5;124mlasla\u001b[39m\u001b[38;5;124m'\u001b[39m, \u001b[38;5;124m'\u001b[39m\u001b[38;5;124moperamaiora\u001b[39m\u001b[38;5;124m'\u001b[39m, \u001b[38;5;124m'\u001b[39m\u001b[38;5;124m1501-1550\u001b[39m\u001b[38;5;124m'\u001b[39m, \u001b[38;5;124m'\u001b[39m\u001b[38;5;124m1551-1600\u001b[39m\u001b[38;5;124m'\u001b[39m, \u001b[38;5;124m'\u001b[39m\u001b[38;5;124m1601-1650\u001b[39m\u001b[38;5;124m'\u001b[39m, \u001b[38;5;124m'\u001b[39m\u001b[38;5;124m1651-1700\u001b[39m\u001b[38;5;124m'\u001b[39m]]\n\u001b[0;32m     11\u001b[0m app\u001b[38;5;241m.\u001b[39mlayout \u001b[38;5;241m=\u001b[39m html\u001b[38;5;241m.\u001b[39mDiv(\n\u001b[0;32m     12\u001b[0m     [\n\u001b[0;32m     13\u001b[0m         html\u001b[38;5;241m.\u001b[39mDiv(\u001b[38;5;124m'\u001b[39m\u001b[38;5;124mQuick Filter:\u001b[39m\u001b[38;5;124m'\u001b[39m),\n\u001b[0;32m     14\u001b[0m         dcc\u001b[38;5;241m.\u001b[39mInput(\u001b[38;5;28mid\u001b[39m\u001b[38;5;241m=\u001b[39m\u001b[38;5;124m\"\u001b[39m\u001b[38;5;124mquick-filter-input\u001b[39m\u001b[38;5;124m\"\u001b[39m, placeholder\u001b[38;5;241m=\u001b[39m\u001b[38;5;124m\"\u001b[39m\u001b[38;5;124mfilter...\u001b[39m\u001b[38;5;124m\"\u001b[39m),\n\u001b[0;32m     15\u001b[0m         dag\u001b[38;5;241m.\u001b[39mAgGrid(\n\u001b[0;32m     16\u001b[0m             \u001b[38;5;28mid\u001b[39m\u001b[38;5;241m=\u001b[39m\u001b[38;5;124m\"\u001b[39m\u001b[38;5;124mquick-filter-simple\u001b[39m\u001b[38;5;124m\"\u001b[39m,\n\u001b[1;32m---> 17\u001b[0m             rowData\u001b[38;5;241m=\u001b[39m\u001b[43mdf\u001b[49m\u001b[38;5;241;43m.\u001b[39;49m\u001b[43mto_dict\u001b[49m(\u001b[38;5;124m\"\u001b[39m\u001b[38;5;124mrecords\u001b[39m\u001b[38;5;124m\"\u001b[39m),\n\u001b[0;32m     18\u001b[0m             columnDefs\u001b[38;5;241m=\u001b[39mcolumnDefs,\n\u001b[0;32m     19\u001b[0m             defaultColDef\u001b[38;5;241m=\u001b[39m{\u001b[38;5;124m\"\u001b[39m\u001b[38;5;124mflex\u001b[39m\u001b[38;5;124m\"\u001b[39m: \u001b[38;5;241m1\u001b[39m},\n\u001b[0;32m     20\u001b[0m             dashGridOptions\u001b[38;5;241m=\u001b[39m{\u001b[38;5;124m\"\u001b[39m\u001b[38;5;124manimateRows\u001b[39m\u001b[38;5;124m\"\u001b[39m: \u001b[38;5;28;01mFalse\u001b[39;00m}\n\u001b[0;32m     21\u001b[0m         ),\n\u001b[0;32m     22\u001b[0m     ]\n\u001b[0;32m     23\u001b[0m )\n\u001b[0;32m     26\u001b[0m \u001b[38;5;129m@callback\u001b[39m(\n\u001b[0;32m     27\u001b[0m     Output(\u001b[38;5;124m\"\u001b[39m\u001b[38;5;124mquick-filter-simple\u001b[39m\u001b[38;5;124m\"\u001b[39m, \u001b[38;5;124m\"\u001b[39m\u001b[38;5;124mdashGridOptions\u001b[39m\u001b[38;5;124m\"\u001b[39m),\n\u001b[0;32m     28\u001b[0m     Input(\u001b[38;5;124m\"\u001b[39m\u001b[38;5;124mquick-filter-input\u001b[39m\u001b[38;5;124m\"\u001b[39m, \u001b[38;5;124m\"\u001b[39m\u001b[38;5;124mvalue\u001b[39m\u001b[38;5;124m\"\u001b[39m)\n\u001b[0;32m     29\u001b[0m )\n\u001b[0;32m     30\u001b[0m \u001b[38;5;28;01mdef\u001b[39;00m \u001b[38;5;21mupdate_filter\u001b[39m(filter_value):\n\u001b[0;32m     31\u001b[0m     newFilter \u001b[38;5;241m=\u001b[39m Patch()\n",
            "\u001b[1;31mAttributeError\u001b[0m: 'list' object has no attribute 'to_dict'"
          ]
        }
      ],
      "source": [
        "import dash_ag_grid as dag\n",
        "from dash import Dash, html, dcc, Input, Output, callback, Patch\n",
        "import pandas as pd\n",
        "\n",
        "app = Dash(__name__)\n",
        "\n",
        "df = wordlist\n",
        "\n",
        "columnDefs = [{\"word\": col} for col in ['lasla', 'operamaiora', '1501-1550', '1551-1600', '1601-1650', '1651-1700']]\n",
        "\n",
        "app.layout = html.Div(\n",
        "    [\n",
        "        html.Div('Quick Filter:'),\n",
        "        dcc.Input(id=\"quick-filter-input\", placeholder=\"filter...\"),\n",
        "        dag.AgGrid(\n",
        "            id=\"quick-filter-simple\",\n",
        "            rowData=df.to_dict(\"records\"),\n",
        "            columnDefs=columnDefs,\n",
        "            defaultColDef={\"flex\": 1},\n",
        "            dashGridOptions={\"animateRows\": False}\n",
        "        ),\n",
        "    ]\n",
        ")\n",
        "\n",
        "\n",
        "@callback(\n",
        "    Output(\"quick-filter-simple\", \"dashGridOptions\"),\n",
        "    Input(\"quick-filter-input\", \"value\")\n",
        ")\n",
        "def update_filter(filter_value):\n",
        "    newFilter = Patch()\n",
        "    newFilter['quickFilterText'] = filter_value\n",
        "    return newFilter\n",
        "\n",
        "\n",
        "if __name__ == \"__main__\":\n",
        "    app.run(debug=True)\n"
      ]
    },
    {
      "cell_type": "code",
      "execution_count": 25,
      "id": "hWqdsce5-6MU",
      "metadata": {
        "id": "hWqdsce5-6MU"
      },
      "outputs": [
        {
          "data": {
            "text/html": [
              "\n",
              "        <iframe\n",
              "            width=\"100%\"\n",
              "            height=\"650\"\n",
              "            src=\"http://127.0.0.1:8050/\"\n",
              "            frameborder=\"0\"\n",
              "            allowfullscreen\n",
              "            \n",
              "        ></iframe>\n",
              "        "
            ],
            "text/plain": [
              "<IPython.lib.display.IFrame at 0x1ccc1f32d20>"
            ]
          },
          "metadata": {},
          "output_type": "display_data"
        }
      ],
      "source": [
        "#originál kódu\n",
        "import dash_ag_grid as dag\n",
        "from dash import Dash, html, dcc, Input, Output, callback, Patch\n",
        "import pandas as pd\n",
        "\n",
        "app = Dash(__name__)\n",
        "\n",
        "df = pd.read_csv(\n",
        "    \"https://raw.githubusercontent.com/plotly/datasets/master/ag-grid/olympic-winners.csv\"\n",
        ")\n",
        "\n",
        "columnDefs = [{\"field\": col} for col in ['athlete', 'country', 'sport', 'age']]\n",
        "\n",
        "app.layout = html.Div(\n",
        "    [\n",
        "        html.Div('Quick Filter:'),\n",
        "        dcc.Input(id=\"quick-filter-input\", placeholder=\"filter...\"),\n",
        "        dag.AgGrid(\n",
        "            id=\"quick-filter-simple\",\n",
        "            rowData=df.to_dict(\"records\"),\n",
        "            columnDefs=columnDefs,\n",
        "            defaultColDef={\"flex\": 1},\n",
        "            dashGridOptions={\"animateRows\": False}\n",
        "        ),\n",
        "    ]\n",
        ")\n",
        "\n",
        "\n",
        "@callback(\n",
        "    Output(\"quick-filter-simple\", \"dashGridOptions\"),\n",
        "    Input(\"quick-filter-input\", \"value\")\n",
        ")\n",
        "def update_filter(filter_value):\n",
        "    newFilter = Patch()\n",
        "    newFilter['quickFilterText'] = filter_value\n",
        "    return newFilter\n",
        "\n",
        "\n",
        "if __name__ == \"__main__\":\n",
        "    app.run(debug=True)\n"
      ]
    }
  ],
  "metadata": {
    "colab": {
      "provenance": []
    },
    "kernelspec": {
      "display_name": "Python 3",
      "language": "python",
      "name": "python3"
    },
    "language_info": {
      "codemirror_mode": {
        "name": "ipython",
        "version": 3
      },
      "file_extension": ".py",
      "mimetype": "text/x-python",
      "name": "python",
      "nbconvert_exporter": "python",
      "pygments_lexer": "ipython3",
      "version": "3.12.2"
    }
  },
  "nbformat": 4,
  "nbformat_minor": 5
}
